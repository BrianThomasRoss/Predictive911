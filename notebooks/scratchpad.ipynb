{
 "cells": [
  {
   "cell_type": "markdown",
   "metadata": {},
   "source": [
    "# Imports"
   ]
  },
  {
   "cell_type": "code",
   "execution_count": 1,
   "metadata": {},
   "outputs": [
    {
     "name": "stderr",
     "output_type": "stream",
     "text": [
      "C:\\Users\\btros\\AppData\\Roaming\\Python\\Python37\\site-packages\\matplotlib\\__init__.py:886: MatplotlibDeprecationWarning: \n",
      "examples.directory is deprecated; in the future, examples will be found relative to the 'datapath' directory.\n",
      "  \"found relative to the 'datapath' directory.\".format(key))\n"
     ]
    }
   ],
   "source": [
    "import numpy as np                                                              # Linear Algebra\n",
    "\n",
    "import pandas as pd                                                             # Data Processing\n",
    "pd.set_option('display.max_rows', 500)\n",
    "pd.set_option('display.max_columns', 500)\n",
    "pd.set_option('display.width', 1000)\n",
    "\n",
    "import datetime as dt                                                           # DateTime Manipulation\n",
    "\n",
    "from geopy.distance import great_circle, vincenty                               # geospatial manipulations\n",
    "from shapely.geometry import MultiPoint\n",
    "from sklearn.cluster import DBSCAN\n",
    "\n",
    "%matplotlib inline\n",
    "import matplotlib.pyplot as plt                                                 # visualizations\n",
    "import seaborn as sns\n",
    "import plotly.express as px\n",
    "\n",
    "from sklearn.model_selection import train_test_split as tts                     # data splitting\n",
    "\n",
    "\n",
    "import category_encoders as ce                                                  # preprocessing\n",
    "from sklearn.impute import SimpleImputer                                        \n",
    "from sklearn.experimental import enable_iterative_imputer\n",
    "from sklearn.impute import IterativeImputer\n",
    "from sklearn.preprocessing import StandardScaler, Imputer\n",
    "from sklearn.decomposition import PCA\n",
    "\n",
    "from sklearn.linear_model import LinearRegression, LogisticRegression           # models\n",
    "from sklearn.ensemble import GradientBoostingRegressor as GBR\n",
    "from sklearn.tree import DecisionTreeRegressor\n",
    "\n",
    "from sklearn.pipeline import make_pipeline                                      # pipeline engineering\n",
    "\n",
    "from sklearn.model_selection import GridSearchCV, RandomizedSearchCV            # hyperparameter tuning\n",
    "\n",
    "from sklearn.metrics import mean_absolute_error, r2_score, mean_squared_error   # model scoring\n",
    "\n",
    "\n",
    "\n",
    "import datetime as dt"
   ]
  },
  {
   "cell_type": "markdown",
   "metadata": {},
   "source": [
    "# Functions"
   ]
  },
  {
   "cell_type": "code",
   "execution_count": 2,
   "metadata": {},
   "outputs": [],
   "source": [
    "def reduce_features(df):\n",
    "    cols = ['X', 'Y', 'incident_id']\n",
    "    \n",
    "    df = df.drop(columns=cols)\n",
    "    \n",
    "    return df\n",
    "\n",
    "def drop_null_cols(df):\n",
    "    \n",
    "    columns_with_null = df.isnull().sum().sort_values(ascending=False)[:9].index.tolist()\n",
    "    df = df.drop(columns=columns_with_null)\n",
    "    \n",
    "    return df\n",
    "\n",
    "def extract_timestamp_feats(df, column='call_timestamp'):\n",
    "    \n",
    "    # Cast the column to DateTime type\n",
    "    df[column] = pd.to_datetime(df[column])\n",
    "    \n",
    "    # Extract date related features\n",
    "    df['year']  = df[column].dt.year\n",
    "    df['month'] = df[column].dt.month\n",
    "    df['day']   = df[column].dt.day\n",
    "    df['dow']   = df[column].dt.dayofweek\n",
    "    df['week']  = df[column].dt.week\n",
    "    \n",
    "    # Extract time related features\n",
    "    df['hour']   = df[column].dt.hour\n",
    "    \"\"\"\n",
    "    Extacts the time of day from the hour value by dividing by the hour knife\n",
    "    1 = Morning  (0400 - 1000h)\n",
    "    2 = Midday   (1000 - 1600h)\n",
    "    3 = Evening  (1600 - 2200h)\n",
    "    4 = Night    (2200 - 0400h)\n",
    "    \"\"\"    \n",
    "    hour_knife = 6\n",
    "    df['part_of_day'] = ((df['hour'] + 2) / hour_knife).astype(int)\n",
    "    df['part_of_day'] = df['part_of_day'].replace(0, 4)\n",
    "    \n",
    "    # Drop the now redundant column\n",
    "    df = df.drop(columns=column)\n",
    "    \n",
    "    return df\n",
    "\n",
    "def filter_geo_outliers(df):\n",
    "    \"\"\"\n",
    "    Filters out the outliers in the data where the latitude and longitudes \n",
    "    exist outside the geographic limits of the city of Detroit\n",
    "    \"\"\"    \n",
    "    n_bound =  42.46\n",
    "    e_bound = -82.91\n",
    "    s_bound =  42.25\n",
    "    w_bound = -83.28\n",
    "    \n",
    "    #  Retains only those observations within the geographic boundaries\n",
    "    df = df.loc[((df['longitude'] > w_bound) & (df['longitude'] < e_bound)) &\n",
    "                ((df['latitude'] > s_bound) & (df['latitude'] < n_bound ))]\n",
    "    \n",
    "    return df \n",
    "\n",
    "def plot_lat_lon(df):\n",
    "    \n",
    "    fig, ax = plt.subplots(figsize=(12, 8))\n",
    "#     img = plt.imread(r\"C:\\Users\\btros\\Downloads\\detroit_map.jpg\")\n",
    "#     ax.imshow(img)\n",
    "    ax = sns.scatterplot(data=df, x='longitude', y='latitude', alpha=0.1)\n",
    "#     ax = sns.scatterplot(x=[1,2,3], y=[2,4,6], alpha=0.1)\n",
    "    ax.set_facecolor('.2')\n",
    "    fig.set_facecolor('.2')\n",
    "    \n",
    "    return plt.show();\n",
    "\n",
    "def remove_categoricals(df):\n",
    "    unneeded = df.select_dtypes(exclude=\"number\").nunique().index.tolist()\n",
    "    unneeded.remove('calldescription')\n",
    "\n",
    "    df = df.drop(columns=unneeded)\n",
    "    \n",
    "    return df\n",
    "\n",
    "def clean_observations(df):    \n",
    "    \"\"\"\n",
    "    Removing observations where the call description\n",
    "    is not related to emergency services\n",
    "    \"\"\"\n",
    "    col = 'calldescription'\n",
    "    \n",
    "    unrelated_calls = ['START OF SHIFT INFORMATION', 'CALL BACK DESK', 'REMARKS',\n",
    "                      'EMPLOYEE CALL IN / TIME OFF', 'NOTIFICATION(S) MADE',\n",
    "                      'TIBURON HISTORICAL DATE', 'BLUE LIGHT PHONE MALF']\n",
    "    \n",
    "    for call in unrelated_calls:\n",
    "        df = df.loc[df[col] != call]\n",
    "    \n",
    "    return df\n",
    "\n",
    "def filter_calldescription(df, col='calldescription'):\n",
    "    \n",
    "    #  List of call descriptions according to which service responded\n",
    "    \n",
    "    police = ['TRAFFIC STOP', 'SPECIAL ATTENTION', 'DISTURBANCE', 'INVESTIGATE PERSON',\n",
    "              'ASSAULT AND BATTERY', 'UNKNOWN PROBLEM', 'TOWING DETAIL', 'FELONIOUS ASSAULT IP',\n",
    "              'LARCENY REPORT', 'AUTO X UNK INJ / IMPAIRED', 'BUS BOARDING', 'PERSON WITH WEAPON',\n",
    "              'VERIFIED ALR / PERSON W/O CODE', 'UDAA REPORT', 'BURGLARY OCCUPIED RESD I/P',\n",
    "              'SHOTS FIRED IP', 'INVESTIGATE AUTO', 'MALICIOUS DESTRUCTION I/P', 'MISCELLANEOUS TRAFFIC',\n",
    "              'PANIC / DURESS ALARM', 'FRAUD REPORT', 'BUILDING CHECK', 'VICIOUS ANIMAL', 'LARCENY I/P OR J/H',\n",
    "              'THREATS REPORT', 'RECOVER AUTO', 'HOLD UP ALARM AND MOW', 'MALICIOUS DESTRUCTION RPT', \n",
    "              'BURGLARY OTHER', 'PARKING COMPLAINT', 'WELL BEING CHECK', 'MENTAL VIOLENT NOT ARMED',\n",
    "              'ASSIST OTHER', 'INFORMATION/NON-CRIMINAL RPT', 'ASSAULT AND BATTERY REPORT', 'AUTO X REPORT',\n",
    "              'BURGLARY OCCUPANT AWAY I/P', 'MISSING REPORT',  'NARCOTICS I/P', 'BURGLARY RESIDENCE REPORT',\n",
    "              'MISSING SERIOUS', 'ALARM UNKNOWN CAUSE', 'SUICIDE THREAT', 'CHILD /  ADULT ABUSE',  'WNTD WRRNT FELONY',\n",
    "              'ADMIT OR E/E', 'FELONIOUS ASSAULT JH', 'ASSIST CITIZEN', 'SPECIAL ATTENTION / DETAIL', 'DEAD PERSON OBSERVED',\n",
    "              'LOST PROPERTY', 'SUICIDE I/P', 'TRANSPORT PRISONER', 'ROBBERY ARMED IP-ANY', 'RECOVERED / FOUND PROPERTY',\n",
    "              'SAFEWALK', 'CHILD / ADULT ABUSE REPORT', 'BREAKING AND ENTERING AUTO I/P', 'FELONIOUS ASSAULT REPORT',\n",
    "              'RAID - EXECUTE SEARCH WARRANT', 'MENTAL VIOLENT - ARMED', 'RAPE REPORT', 'HARASSMENT REPORT',\n",
    "              'BURGLARY BUSINESS IP', 'KIDNAPPING', 'PPO VIOLATION I/P', 'LEWD AND LASCIVIOUS IP', 'AID MOTORIST / CHILD LOCKED IN',\n",
    "              'BREAKING & ENTERING AUTO RPT', 'DV A/B I/P-J/H', 'ROBBERY NOT ARMED I/P', 'SQUATTER DISTURBANCE',\n",
    "              'SCRAP STRIP  BLDG  IP', 'ASSAULT AND BATTERY I/P', 'AUTO OR PED H&R REPORT', 'FRAUD I/P',\n",
    "              'AUTO X HIT & RUN W/ INJ', 'BURGLARY OCCUP RESD REPT', 'RUBBISH LITTERING I/P', 'SHOTS J/H, EVIDENCE, REPT',\n",
    "              'BE ON THE LOOK OUT', 'SHOOTING/CUTTING/PENT WND RPT', 'HOLDING PERSON', 'ARSON I/P', 'BURGLARY OTHER REPORT',\n",
    "              'ANIMAL COMPLAINT', 'ARSON REPORT', 'ASSIST PERSONNEL', 'ROBBERY ARMED REPORT', 'VERIFY RETURN OF MISSING',\n",
    "              'DDOT TROUBLE', 'WNTD WRRNT MISDEMEANOR', 'ROBBERY ARMED JH-ANY WEAPON',  'BURGLARY OCCUPANT AWAY J/H',\n",
    "              'UDAA I/P', 'SCHOOL CROSSING', 'HAZARDOUS CONDITIONS', 'SENIOR CITIZEN ASSIST', 'ROBBERY NOT ARMED REPORT',\n",
    "              'ONE OVER THE WHEEL', 'RAPE IP OR JH', 'PROPERTY DAMAGE NON-CRIMINAL', 'PEACE OFFICER DETAIL', 'BURGLARY BUSINESS REPORT',\n",
    "              'BURGLARY BUSINESS J/H', 'CHILD(REN) HOME ALONE', 'DV F/A I/P-J/H', 'ESCORT', 'NARCOTICS REPORT', 'AID MOTORIST MISC',\n",
    "              'PPO VIOLATION REPORT', 'RECOVER AUTO FELONY', 'LEWD AND LASCIVIOUS','VEHICLE FIRE', 'NOISE COMPLAINT', \n",
    "              'FOUND PERSON', 'MOLESTATION REPORT', 'PBT TEST', 'RESIDENTIAL STRUCTURE FIRE', 'ASSIST REF GAINING ENTRY',\n",
    "              'ATM  ALARM',  'WSPD - BURGLARY ALR', 'ALTERED LOC OR UNK PROBLEM', 'PAST GUNSHOT OR STABBINIG', 'AID MORTORIST MISC',\n",
    "              'BOMB THREAT REPORT',  'ASSAULT  NOT DANGEROUS OR PREV', 'WRKABLE ARRST/OBV OR EXP DEATH',\n",
    "              'CITIZEN RADIO PATROL IN TROUBL', 'SCHOOL THREATS J/H & RPT', 'TRAFFIC W/ NO INJURIES',  'MISCELLANEOUS ACCIDENT',\n",
    "              'MOLESTATION', 'BANK ALARM','KIDNAPPING REPORT', 'K-9 DEPLOYMENT', 'SUSPICIOUS PACKAGE', 'DPDA', \n",
    "              'WSPD - BURGLARY ALARM', 'VIP THREATS I/P', 'PERSON W/  A WEAPON REPORT', 'AID MOTORIST CHILD LOCKED INSD',\n",
    "              'ANIMAL FIGHT', 'BOMB THREAT', 'PERSONNEL IN TROUBLE', 'BURGLARY ALARM', 'DV PRS WITH A WEAP I/P-J/H',\n",
    "              'ASSAULT AND BATTERY J/H', 'AUTO X - BLDG / DWELL', 'PURSUIT - VEHICLE OR FOOT', 'BACKGROUND/LEIN CHK / LIVESCAN',\n",
    "              'INVESTIGATE YOUTH(S)', 'SHOT STABBED UNK OR OBV DEATH', 'SCRAP STRIP BLDG JH', 'TRANSPORT PRISONER-OTH AGT', 'BOMB SCARE',\n",
    "              'SMOKING VIOLATIONS', 'DV A/B RPT', 'HPPD BURG ALRM', 'EXTORTION IP', 'EXTORTION JH OR REPORT',\n",
    "              'OTHR OUTSIDE STRUCTURE FIRE', 'ATTEMPTED SUICIDE REPORT', 'VIP THREATS J/H OR REPORT', 'ASSAULT DANGEROUSOR SERIOUS',\n",
    "              'TRAFFIC- MINOR INJURIES', 'SUICIDE THREAT OR ABNORM BEHAV', 'BURGLARY ALARM  W/ MOW', 'HPPD BURG ALRM  W/ MOW',\n",
    "              'BACKGROUND CHECK / LIVESCAN', 'DV F/A RPT', 'CURFEW VIOLATION', 'YOUTH LOITERING/CONGREGATING']\n",
    "\n",
    "    ems = ['ONE DOWN OR OVER THE WHEEL', 'AUTO X OR PED X - INJURIES', 'AUTO X HIT& RUN UNK INJURIES',\n",
    "           'MENTAL VIOLENT NOT ARMED', 'MENTAL NOT VIOLENT', 'SHOOTING/CUTTING/PENT WOUND', 'MT EMS-TRO/ENTRY',\n",
    "           'ONE DOWN/DRUG OD', 'ANIMAL BITES OR ATTACK DELTA', 'SHOT OR STABBED DELTA', 'PREGNANCY OR CHILDBIRTH DELTA',\n",
    "           'CHEST PAIN DELTA', 'ATYPICAL SEIZURE OR HX OR CVA', 'OB HEMORRHAGE LABOR OR BIRTH',\n",
    "           'CHEST PAIN NORMAL BREATHING', 'INJURY NON DANGEROUS BODY PART', 'NON SUICIDAL OR NT THRTENING',\n",
    "           'SICK PERSON DELTA', 'ANIMAL BITE OR ATTACK DELTA', 'FALL W SERIOUS HEMORRHAGE', 'CONT OR MULTI SEIZURES DELTA',\n",
    "           'PORTABLE ALARM SYSTEM', 'FAINTING ALERT', 'SERIOUS HEMORRHAGE', 'BURNS DELTA  OR ECHO', 'HEADACHE - ADDITIONAL SYMPTONS',\n",
    "           'NON RECENT OR SUPERFICIAL BITE', 'ASSAULT OR SEX ASSAULT DELTA', 'UNCONSCIOUS OR FAINTING DELTA', 'DV PRSN WITH WEAP RPT',\n",
    "           'SCHOOL THREATS I/P', 'SICK NON PRIORITY COMPLAINTS', 'SUICIDE ATTEMPT DELTA', 'DANGEROUS HEMORRHAGE DELTA',\n",
    "           'SERIOUS INJURIES', 'MINOR HEMORRHAGE', 'BREATHING PROBLEMS DELTA', 'CHEST PAIN W OR WO NOR BRETH', 'OVERDOSE DELTA',\n",
    "           'OVER THE WHEEL',  'TRAFFIC INCIDENT W/ INJURIES', 'POSS DANGEROUS ANIMAL BITE', 'ONE DOWN/OVERDOSE',\n",
    "           'MAJOR TRAFFIC INCIDENT DELTA', 'OVERDOSE NT ALRT OR UNK STATUS', 'MEDICAL ALARM OR UNK PROB','LIFE STATUS QUESTIONABLE DELTA']\n",
    "\n",
    "    fire = ['FIRE ALARM TEST', 'FIRE ALARM', 'TEMPERATURE ALARM',  'ELEVATOR ENTRAPMENT', 'VEHICLE FIRE(FIELD)',\n",
    "            'IRRADIATOR ROOM ALARM / TEST', 'HAZARD CONDITIONS NO FIRE', 'GRASS  FIRE', 'POWER LINES', 'ALR PT DISABLED / TIMEZONE CHG',\n",
    "            'EXPLOSION/RUPTURE NO FIRE', 'ALARM MALFUNCTION',  'COMMERCIAL STRUCTURE FIRE', 'EXPLOSION',  'FIRE ALARMS ALL',\n",
    "            'WEATHER RELATED', 'GRASS OR RUBBISH FIRE',  'SMOKE INVESTIGATION', 'WSPD - FIRES', 'ALARM MISUSE']\n",
    "    \n",
    "           \n",
    "    df['police'] = np.where(df[col].isin(police), 1, 0)\n",
    "    df['ems'] = np.where(df[col].isin(ems), 2, 0)\n",
    "    df['fire'] = np.where(df[col].isin(fire), 3, 0)\n",
    "    \n",
    "    df['category'] = df['fire'] + df['ems'] + df['police']\n",
    "    df['category'] = df['category'].replace(0, 1)  #  For some reason the Assault and Battery instances are not picked up\n",
    "    \n",
    "    \n",
    "    defunct = ['police', 'ems', 'fire', col]\n",
    "    \n",
    "     #  Drop the no longer needed columns\n",
    "\n",
    "    df = df.drop(columns=defunct)\n",
    "\n",
    "    return df\n",
    "\n",
    "def police_only(df):\n",
    "    # Retains only those observations which contain calls for police assistance\n",
    "    df = df.loc[df.category == 1]\n",
    "    df = df.drop(columns='category')\n",
    "    \n",
    "    return df\n",
    "\n",
    "def apply_geospatial_grid(df):\n",
    "    lat = 'latitude'\n",
    "    lon = 'longitude'\n",
    "    # episolon is used to avoid assigning locations outside the grid\n",
    "    epsilon = .0001\n",
    "    \n",
    "    # min and max of latitude and longitude\n",
    "    lat_min = df[lat].min() - epsilon\n",
    "    lat_max = df[lat].max() + epsilon\n",
    "    \n",
    "    lon_min = df[lon].min() - epsilon\n",
    "    lon_max = df[lon].max() + epsilon\n",
    "    \n",
    "    # ranges\n",
    "    lat_range = lat_max - lat_min\n",
    "    lon_range = lon_max - lon_min\n",
    "    \n",
    "    # splits\n",
    "    lat_knife = 10\n",
    "    lon_knife = 15 \n",
    "    \n",
    "    # grid lengths\n",
    "    lon_length = lon_range / lon_knife\n",
    "    lat_length = lat_range / lat_knife\n",
    "    \n",
    "    # assigining the locations to a grid space\n",
    "    \n",
    "    df['lat_grid'] = (np.floor(((df[lat]-lat_min)/lat_length)))\n",
    "    df['lon_grid'] = (np.floor(((df[lon]-lon_min)/lon_length)))\n",
    "    \n",
    "    \n",
    "    # discard the now unneeded columns\n",
    "    cols = [lat, lon]\n",
    "    df = df.drop(columns=cols)\n",
    "    \n",
    "    return df\n",
    "\n",
    "def to_heatmap_format(df):\n",
    "    grid_df = df.groupby(['lat_grid','lon_grid']).size().reset_index(name='call_count')\n",
    "    geoheatmap_df = grid_fg.pivot(index='lat_grid',columns='lon_grid', values='call_count')\n",
    "    \n",
    "    return geoheatmap_df\n",
    "\n",
    "def plot_calls_grid(df):\n",
    "    fig, ax = plt.subplots(figsize=(20,8))\n",
    "    plt.title(\"Detroit 911 Calls by Geographic Location Halloween 2018\",\n",
    "             fontsize=24)\n",
    "\n",
    "    ax = sns.heatmap(df,annot=True,fmt=\".0f\",cbar=False)\n",
    "\n",
    "    # ax.set_ylim(len('lat_grid'), -1, -1)\n",
    "\n",
    "    fig.set_facecolor('.1')\n",
    "    ax.set_facecolor('.1')\n",
    "\n",
    "\n",
    "    ax.invert_yaxis()\n",
    "    \n",
    "    return plt.show();\n",
    "\n",
    "def group_features(df):\n",
    "    # groups the dataframe by various DateTime params\n",
    "    grouping_list = list(df.columns)\n",
    "    grouping_list.remove('oid')\n",
    "    grouping_list.remove('hour')\n",
    "    grouped_df    = df.groupby(grouping_list).size().reset_index(name='count')\n",
    "    \n",
    "    return grouped_df\n",
    "\n",
    "\n",
    "def wrangle(df):\n",
    "    \n",
    "    df = reduce_features(df)\n",
    "    df = drop_null_cols(df)\n",
    "    df = extract_timestamp_feats(df)\n",
    "    df = filter_geo_outliers(df)\n",
    "    df = remove_categoricals(df)\n",
    "    df = clean_observations(df)\n",
    "    df = filter_calldescription(df)\n",
    "    df = police_only(df)\n",
    "    df = apply_geospatial_grid(df)\n",
    "    df = group_features(df)\n",
    "    \n",
    "    return df "
   ]
  },
  {
   "cell_type": "markdown",
   "metadata": {},
   "source": [
    "# Load Data"
   ]
  },
  {
   "cell_type": "code",
   "execution_count": 3,
   "metadata": {},
   "outputs": [],
   "source": [
    "PATH = r\"C:\\\\Users\\\\btros\\\\OneDrive\\\\Documents\\\\LSDS-Unit-2-Project\\\\raw_csvs\"\n",
    "\n",
    "file = r\"\\\\911_Calls_for_Service.csv\"\n",
    "\n",
    "calls = pd.read_csv(PATH+file, low_memory=False)\n",
    "\n",
    "#  Don't forget to make a copy \n",
    "\n",
    "df_copy = calls"
   ]
  },
  {
   "cell_type": "code",
   "execution_count": 4,
   "metadata": {},
   "outputs": [
    {
     "data": {
      "text/plain": [
       "Index(['X', 'Y', 'incident_id', 'agency', 'incident_address', 'zip_code', 'priority', 'callcode', 'calldescription', 'category', 'call_timestamp', 'precinct_sca', 'respondingunit', 'officerinitiated', 'intaketime', 'dispatchtime', 'traveltime', 'totalresponsetime', 'time_on_scene', 'totaltime', 'neighborhood', 'block_id', 'council_district', 'longitude', 'latitude', 'oid'], dtype='object')"
      ]
     },
     "execution_count": 4,
     "metadata": {},
     "output_type": "execute_result"
    }
   ],
   "source": [
    "calls.columns"
   ]
  },
  {
   "cell_type": "code",
   "execution_count": 5,
   "metadata": {},
   "outputs": [],
   "source": [
    "weather_file = r'\\\\detroit_weather_wrangled.csv'\n",
    "\n",
    "weather = pd.read_csv(PATH+weather_file)\n",
    "\n",
    "weather_copy = weather"
   ]
  },
  {
   "cell_type": "code",
   "execution_count": 6,
   "metadata": {},
   "outputs": [],
   "source": [
    "weather = weather.drop(columns='Unnamed: 0')"
   ]
  },
  {
   "cell_type": "code",
   "execution_count": 7,
   "metadata": {},
   "outputs": [],
   "source": [
    "holidays = pd.read_csv(PATH+r'\\holidays.csv')"
   ]
  },
  {
   "cell_type": "code",
   "execution_count": 8,
   "metadata": {},
   "outputs": [],
   "source": [
    "calls = wrangle(calls)"
   ]
  },
  {
   "cell_type": "code",
   "execution_count": 9,
   "metadata": {},
   "outputs": [
    {
     "data": {
      "text/html": [
       "<div>\n",
       "<style scoped>\n",
       "    .dataframe tbody tr th:only-of-type {\n",
       "        vertical-align: middle;\n",
       "    }\n",
       "\n",
       "    .dataframe tbody tr th {\n",
       "        vertical-align: top;\n",
       "    }\n",
       "\n",
       "    .dataframe thead th {\n",
       "        text-align: right;\n",
       "    }\n",
       "</style>\n",
       "<table border=\"1\" class=\"dataframe\">\n",
       "  <thead>\n",
       "    <tr style=\"text-align: right;\">\n",
       "      <th></th>\n",
       "      <th>year</th>\n",
       "      <th>month</th>\n",
       "      <th>day</th>\n",
       "      <th>dow</th>\n",
       "      <th>week</th>\n",
       "      <th>part_of_day</th>\n",
       "      <th>lat_grid</th>\n",
       "      <th>lon_grid</th>\n",
       "      <th>count</th>\n",
       "    </tr>\n",
       "  </thead>\n",
       "  <tbody>\n",
       "    <tr>\n",
       "      <td>0</td>\n",
       "      <td>2016</td>\n",
       "      <td>9</td>\n",
       "      <td>20</td>\n",
       "      <td>1</td>\n",
       "      <td>38</td>\n",
       "      <td>1</td>\n",
       "      <td>5.0</td>\n",
       "      <td>3.0</td>\n",
       "      <td>1</td>\n",
       "    </tr>\n",
       "    <tr>\n",
       "      <td>1</td>\n",
       "      <td>2016</td>\n",
       "      <td>9</td>\n",
       "      <td>20</td>\n",
       "      <td>1</td>\n",
       "      <td>38</td>\n",
       "      <td>1</td>\n",
       "      <td>5.0</td>\n",
       "      <td>4.0</td>\n",
       "      <td>1</td>\n",
       "    </tr>\n",
       "    <tr>\n",
       "      <td>2</td>\n",
       "      <td>2016</td>\n",
       "      <td>9</td>\n",
       "      <td>20</td>\n",
       "      <td>1</td>\n",
       "      <td>38</td>\n",
       "      <td>1</td>\n",
       "      <td>5.0</td>\n",
       "      <td>9.0</td>\n",
       "      <td>1</td>\n",
       "    </tr>\n",
       "    <tr>\n",
       "      <td>3</td>\n",
       "      <td>2016</td>\n",
       "      <td>9</td>\n",
       "      <td>20</td>\n",
       "      <td>1</td>\n",
       "      <td>38</td>\n",
       "      <td>1</td>\n",
       "      <td>7.0</td>\n",
       "      <td>3.0</td>\n",
       "      <td>1</td>\n",
       "    </tr>\n",
       "    <tr>\n",
       "      <td>4</td>\n",
       "      <td>2016</td>\n",
       "      <td>9</td>\n",
       "      <td>20</td>\n",
       "      <td>1</td>\n",
       "      <td>38</td>\n",
       "      <td>1</td>\n",
       "      <td>7.0</td>\n",
       "      <td>11.0</td>\n",
       "      <td>1</td>\n",
       "    </tr>\n",
       "    <tr>\n",
       "      <td>...</td>\n",
       "      <td>...</td>\n",
       "      <td>...</td>\n",
       "      <td>...</td>\n",
       "      <td>...</td>\n",
       "      <td>...</td>\n",
       "      <td>...</td>\n",
       "      <td>...</td>\n",
       "      <td>...</td>\n",
       "      <td>...</td>\n",
       "    </tr>\n",
       "    <tr>\n",
       "      <td>391832</td>\n",
       "      <td>2019</td>\n",
       "      <td>11</td>\n",
       "      <td>15</td>\n",
       "      <td>4</td>\n",
       "      <td>46</td>\n",
       "      <td>4</td>\n",
       "      <td>9.0</td>\n",
       "      <td>7.0</td>\n",
       "      <td>1</td>\n",
       "    </tr>\n",
       "    <tr>\n",
       "      <td>391833</td>\n",
       "      <td>2019</td>\n",
       "      <td>11</td>\n",
       "      <td>15</td>\n",
       "      <td>4</td>\n",
       "      <td>46</td>\n",
       "      <td>4</td>\n",
       "      <td>9.0</td>\n",
       "      <td>8.0</td>\n",
       "      <td>1</td>\n",
       "    </tr>\n",
       "    <tr>\n",
       "      <td>391834</td>\n",
       "      <td>2019</td>\n",
       "      <td>11</td>\n",
       "      <td>15</td>\n",
       "      <td>4</td>\n",
       "      <td>46</td>\n",
       "      <td>4</td>\n",
       "      <td>9.0</td>\n",
       "      <td>9.0</td>\n",
       "      <td>1</td>\n",
       "    </tr>\n",
       "    <tr>\n",
       "      <td>391835</td>\n",
       "      <td>2019</td>\n",
       "      <td>11</td>\n",
       "      <td>15</td>\n",
       "      <td>4</td>\n",
       "      <td>46</td>\n",
       "      <td>4</td>\n",
       "      <td>9.0</td>\n",
       "      <td>10.0</td>\n",
       "      <td>1</td>\n",
       "    </tr>\n",
       "    <tr>\n",
       "      <td>391836</td>\n",
       "      <td>2019</td>\n",
       "      <td>11</td>\n",
       "      <td>15</td>\n",
       "      <td>4</td>\n",
       "      <td>46</td>\n",
       "      <td>4</td>\n",
       "      <td>9.0</td>\n",
       "      <td>12.0</td>\n",
       "      <td>2</td>\n",
       "    </tr>\n",
       "  </tbody>\n",
       "</table>\n",
       "<p>391837 rows × 9 columns</p>\n",
       "</div>"
      ],
      "text/plain": [
       "        year  month  day  dow  week  part_of_day  lat_grid  lon_grid  count\n",
       "0       2016      9   20    1    38            1       5.0       3.0      1\n",
       "1       2016      9   20    1    38            1       5.0       4.0      1\n",
       "2       2016      9   20    1    38            1       5.0       9.0      1\n",
       "3       2016      9   20    1    38            1       7.0       3.0      1\n",
       "4       2016      9   20    1    38            1       7.0      11.0      1\n",
       "...      ...    ...  ...  ...   ...          ...       ...       ...    ...\n",
       "391832  2019     11   15    4    46            4       9.0       7.0      1\n",
       "391833  2019     11   15    4    46            4       9.0       8.0      1\n",
       "391834  2019     11   15    4    46            4       9.0       9.0      1\n",
       "391835  2019     11   15    4    46            4       9.0      10.0      1\n",
       "391836  2019     11   15    4    46            4       9.0      12.0      2\n",
       "\n",
       "[391837 rows x 9 columns]"
      ]
     },
     "execution_count": 9,
     "metadata": {},
     "output_type": "execute_result"
    }
   ],
   "source": [
    "calls"
   ]
  },
  {
   "cell_type": "code",
   "execution_count": 10,
   "metadata": {},
   "outputs": [
    {
     "data": {
      "text/html": [
       "<div>\n",
       "<style scoped>\n",
       "    .dataframe tbody tr th:only-of-type {\n",
       "        vertical-align: middle;\n",
       "    }\n",
       "\n",
       "    .dataframe tbody tr th {\n",
       "        vertical-align: top;\n",
       "    }\n",
       "\n",
       "    .dataframe thead th {\n",
       "        text-align: right;\n",
       "    }\n",
       "</style>\n",
       "<table border=\"1\" class=\"dataframe\">\n",
       "  <thead>\n",
       "    <tr style=\"text-align: right;\">\n",
       "      <th></th>\n",
       "      <th>year</th>\n",
       "      <th>month</th>\n",
       "      <th>day</th>\n",
       "      <th>part_of_day</th>\n",
       "      <th>weather_id</th>\n",
       "      <th>severe</th>\n",
       "      <th>temp_min</th>\n",
       "      <th>temp_max</th>\n",
       "    </tr>\n",
       "  </thead>\n",
       "  <tbody>\n",
       "    <tr>\n",
       "      <td>0</td>\n",
       "      <td>2016</td>\n",
       "      <td>8</td>\n",
       "      <td>31</td>\n",
       "      <td>3</td>\n",
       "      <td>800.000000</td>\n",
       "      <td>0.0</td>\n",
       "      <td>66.704000</td>\n",
       "      <td>73.499000</td>\n",
       "    </tr>\n",
       "    <tr>\n",
       "      <td>1</td>\n",
       "      <td>2016</td>\n",
       "      <td>8</td>\n",
       "      <td>31</td>\n",
       "      <td>4</td>\n",
       "      <td>800.000000</td>\n",
       "      <td>0.0</td>\n",
       "      <td>62.600000</td>\n",
       "      <td>71.501000</td>\n",
       "    </tr>\n",
       "    <tr>\n",
       "      <td>2</td>\n",
       "      <td>2016</td>\n",
       "      <td>9</td>\n",
       "      <td>1</td>\n",
       "      <td>1</td>\n",
       "      <td>801.666667</td>\n",
       "      <td>0.0</td>\n",
       "      <td>59.300000</td>\n",
       "      <td>66.092000</td>\n",
       "    </tr>\n",
       "    <tr>\n",
       "      <td>3</td>\n",
       "      <td>2016</td>\n",
       "      <td>9</td>\n",
       "      <td>1</td>\n",
       "      <td>2</td>\n",
       "      <td>651.166667</td>\n",
       "      <td>0.0</td>\n",
       "      <td>67.444747</td>\n",
       "      <td>72.874747</td>\n",
       "    </tr>\n",
       "    <tr>\n",
       "      <td>4</td>\n",
       "      <td>2016</td>\n",
       "      <td>9</td>\n",
       "      <td>1</td>\n",
       "      <td>3</td>\n",
       "      <td>606.833333</td>\n",
       "      <td>0.0</td>\n",
       "      <td>66.117594</td>\n",
       "      <td>71.118594</td>\n",
       "    </tr>\n",
       "    <tr>\n",
       "      <td>...</td>\n",
       "      <td>...</td>\n",
       "      <td>...</td>\n",
       "      <td>...</td>\n",
       "      <td>...</td>\n",
       "      <td>...</td>\n",
       "      <td>...</td>\n",
       "      <td>...</td>\n",
       "      <td>...</td>\n",
       "    </tr>\n",
       "    <tr>\n",
       "      <td>4677</td>\n",
       "      <td>2019</td>\n",
       "      <td>11</td>\n",
       "      <td>13</td>\n",
       "      <td>4</td>\n",
       "      <td>801.166667</td>\n",
       "      <td>0.0</td>\n",
       "      <td>9.566009</td>\n",
       "      <td>19.202000</td>\n",
       "    </tr>\n",
       "    <tr>\n",
       "      <td>4678</td>\n",
       "      <td>2019</td>\n",
       "      <td>11</td>\n",
       "      <td>14</td>\n",
       "      <td>1</td>\n",
       "      <td>684.833333</td>\n",
       "      <td>0.0</td>\n",
       "      <td>22.964000</td>\n",
       "      <td>28.865000</td>\n",
       "    </tr>\n",
       "    <tr>\n",
       "      <td>4679</td>\n",
       "      <td>2019</td>\n",
       "      <td>11</td>\n",
       "      <td>14</td>\n",
       "      <td>2</td>\n",
       "      <td>635.000000</td>\n",
       "      <td>0.0</td>\n",
       "      <td>28.331000</td>\n",
       "      <td>33.167000</td>\n",
       "    </tr>\n",
       "    <tr>\n",
       "      <td>4680</td>\n",
       "      <td>2019</td>\n",
       "      <td>11</td>\n",
       "      <td>14</td>\n",
       "      <td>3</td>\n",
       "      <td>632.600000</td>\n",
       "      <td>0.0</td>\n",
       "      <td>28.756400</td>\n",
       "      <td>33.958400</td>\n",
       "    </tr>\n",
       "    <tr>\n",
       "      <td>4681</td>\n",
       "      <td>2019</td>\n",
       "      <td>11</td>\n",
       "      <td>14</td>\n",
       "      <td>4</td>\n",
       "      <td>753.000000</td>\n",
       "      <td>0.0</td>\n",
       "      <td>23.450000</td>\n",
       "      <td>27.050000</td>\n",
       "    </tr>\n",
       "  </tbody>\n",
       "</table>\n",
       "<p>4682 rows × 8 columns</p>\n",
       "</div>"
      ],
      "text/plain": [
       "      year  month  day  part_of_day  weather_id  severe   temp_min   temp_max\n",
       "0     2016      8   31            3  800.000000     0.0  66.704000  73.499000\n",
       "1     2016      8   31            4  800.000000     0.0  62.600000  71.501000\n",
       "2     2016      9    1            1  801.666667     0.0  59.300000  66.092000\n",
       "3     2016      9    1            2  651.166667     0.0  67.444747  72.874747\n",
       "4     2016      9    1            3  606.833333     0.0  66.117594  71.118594\n",
       "...    ...    ...  ...          ...         ...     ...        ...        ...\n",
       "4677  2019     11   13            4  801.166667     0.0   9.566009  19.202000\n",
       "4678  2019     11   14            1  684.833333     0.0  22.964000  28.865000\n",
       "4679  2019     11   14            2  635.000000     0.0  28.331000  33.167000\n",
       "4680  2019     11   14            3  632.600000     0.0  28.756400  33.958400\n",
       "4681  2019     11   14            4  753.000000     0.0  23.450000  27.050000\n",
       "\n",
       "[4682 rows x 8 columns]"
      ]
     },
     "execution_count": 10,
     "metadata": {},
     "output_type": "execute_result"
    }
   ],
   "source": [
    "weather"
   ]
  },
  {
   "cell_type": "code",
   "execution_count": 11,
   "metadata": {},
   "outputs": [],
   "source": [
    "holidays = holidays.drop(columns='Unnamed: 0')"
   ]
  },
  {
   "cell_type": "code",
   "execution_count": 12,
   "metadata": {},
   "outputs": [
    {
     "data": {
      "text/html": [
       "<div>\n",
       "<style scoped>\n",
       "    .dataframe tbody tr th:only-of-type {\n",
       "        vertical-align: middle;\n",
       "    }\n",
       "\n",
       "    .dataframe tbody tr th {\n",
       "        vertical-align: top;\n",
       "    }\n",
       "\n",
       "    .dataframe thead th {\n",
       "        text-align: right;\n",
       "    }\n",
       "</style>\n",
       "<table border=\"1\" class=\"dataframe\">\n",
       "  <thead>\n",
       "    <tr style=\"text-align: right;\">\n",
       "      <th></th>\n",
       "      <th>year</th>\n",
       "      <th>month</th>\n",
       "      <th>day</th>\n",
       "      <th>is_holiday</th>\n",
       "    </tr>\n",
       "  </thead>\n",
       "  <tbody>\n",
       "    <tr>\n",
       "      <td>0</td>\n",
       "      <td>2016</td>\n",
       "      <td>10</td>\n",
       "      <td>31</td>\n",
       "      <td>1</td>\n",
       "    </tr>\n",
       "    <tr>\n",
       "      <td>1</td>\n",
       "      <td>2016</td>\n",
       "      <td>11</td>\n",
       "      <td>24</td>\n",
       "      <td>1</td>\n",
       "    </tr>\n",
       "    <tr>\n",
       "      <td>2</td>\n",
       "      <td>2016</td>\n",
       "      <td>12</td>\n",
       "      <td>26</td>\n",
       "      <td>1</td>\n",
       "    </tr>\n",
       "    <tr>\n",
       "      <td>3</td>\n",
       "      <td>2016</td>\n",
       "      <td>12</td>\n",
       "      <td>30</td>\n",
       "      <td>1</td>\n",
       "    </tr>\n",
       "    <tr>\n",
       "      <td>4</td>\n",
       "      <td>2017</td>\n",
       "      <td>1</td>\n",
       "      <td>2</td>\n",
       "      <td>1</td>\n",
       "    </tr>\n",
       "    <tr>\n",
       "      <td>5</td>\n",
       "      <td>2017</td>\n",
       "      <td>1</td>\n",
       "      <td>16</td>\n",
       "      <td>1</td>\n",
       "    </tr>\n",
       "    <tr>\n",
       "      <td>6</td>\n",
       "      <td>2017</td>\n",
       "      <td>2</td>\n",
       "      <td>5</td>\n",
       "      <td>1</td>\n",
       "    </tr>\n",
       "    <tr>\n",
       "      <td>7</td>\n",
       "      <td>2017</td>\n",
       "      <td>2</td>\n",
       "      <td>20</td>\n",
       "      <td>1</td>\n",
       "    </tr>\n",
       "    <tr>\n",
       "      <td>8</td>\n",
       "      <td>2017</td>\n",
       "      <td>3</td>\n",
       "      <td>17</td>\n",
       "      <td>1</td>\n",
       "    </tr>\n",
       "    <tr>\n",
       "      <td>9</td>\n",
       "      <td>2017</td>\n",
       "      <td>4</td>\n",
       "      <td>14</td>\n",
       "      <td>1</td>\n",
       "    </tr>\n",
       "    <tr>\n",
       "      <td>10</td>\n",
       "      <td>2017</td>\n",
       "      <td>4</td>\n",
       "      <td>16</td>\n",
       "      <td>1</td>\n",
       "    </tr>\n",
       "    <tr>\n",
       "      <td>11</td>\n",
       "      <td>2017</td>\n",
       "      <td>5</td>\n",
       "      <td>29</td>\n",
       "      <td>1</td>\n",
       "    </tr>\n",
       "    <tr>\n",
       "      <td>12</td>\n",
       "      <td>2017</td>\n",
       "      <td>7</td>\n",
       "      <td>4</td>\n",
       "      <td>1</td>\n",
       "    </tr>\n",
       "    <tr>\n",
       "      <td>13</td>\n",
       "      <td>2017</td>\n",
       "      <td>9</td>\n",
       "      <td>4</td>\n",
       "      <td>1</td>\n",
       "    </tr>\n",
       "    <tr>\n",
       "      <td>14</td>\n",
       "      <td>2017</td>\n",
       "      <td>10</td>\n",
       "      <td>31</td>\n",
       "      <td>1</td>\n",
       "    </tr>\n",
       "    <tr>\n",
       "      <td>15</td>\n",
       "      <td>2017</td>\n",
       "      <td>11</td>\n",
       "      <td>23</td>\n",
       "      <td>1</td>\n",
       "    </tr>\n",
       "    <tr>\n",
       "      <td>16</td>\n",
       "      <td>2017</td>\n",
       "      <td>12</td>\n",
       "      <td>25</td>\n",
       "      <td>1</td>\n",
       "    </tr>\n",
       "    <tr>\n",
       "      <td>17</td>\n",
       "      <td>2018</td>\n",
       "      <td>1</td>\n",
       "      <td>1</td>\n",
       "      <td>1</td>\n",
       "    </tr>\n",
       "    <tr>\n",
       "      <td>18</td>\n",
       "      <td>2018</td>\n",
       "      <td>1</td>\n",
       "      <td>1</td>\n",
       "      <td>1</td>\n",
       "    </tr>\n",
       "    <tr>\n",
       "      <td>19</td>\n",
       "      <td>2018</td>\n",
       "      <td>1</td>\n",
       "      <td>15</td>\n",
       "      <td>1</td>\n",
       "    </tr>\n",
       "    <tr>\n",
       "      <td>20</td>\n",
       "      <td>2018</td>\n",
       "      <td>2</td>\n",
       "      <td>4</td>\n",
       "      <td>1</td>\n",
       "    </tr>\n",
       "    <tr>\n",
       "      <td>21</td>\n",
       "      <td>2018</td>\n",
       "      <td>2</td>\n",
       "      <td>19</td>\n",
       "      <td>1</td>\n",
       "    </tr>\n",
       "    <tr>\n",
       "      <td>22</td>\n",
       "      <td>2018</td>\n",
       "      <td>3</td>\n",
       "      <td>17</td>\n",
       "      <td>1</td>\n",
       "    </tr>\n",
       "    <tr>\n",
       "      <td>23</td>\n",
       "      <td>2018</td>\n",
       "      <td>3</td>\n",
       "      <td>30</td>\n",
       "      <td>1</td>\n",
       "    </tr>\n",
       "    <tr>\n",
       "      <td>24</td>\n",
       "      <td>2018</td>\n",
       "      <td>4</td>\n",
       "      <td>1</td>\n",
       "      <td>1</td>\n",
       "    </tr>\n",
       "    <tr>\n",
       "      <td>25</td>\n",
       "      <td>2018</td>\n",
       "      <td>5</td>\n",
       "      <td>28</td>\n",
       "      <td>1</td>\n",
       "    </tr>\n",
       "    <tr>\n",
       "      <td>26</td>\n",
       "      <td>2018</td>\n",
       "      <td>7</td>\n",
       "      <td>4</td>\n",
       "      <td>1</td>\n",
       "    </tr>\n",
       "    <tr>\n",
       "      <td>27</td>\n",
       "      <td>2018</td>\n",
       "      <td>9</td>\n",
       "      <td>3</td>\n",
       "      <td>1</td>\n",
       "    </tr>\n",
       "    <tr>\n",
       "      <td>28</td>\n",
       "      <td>2018</td>\n",
       "      <td>10</td>\n",
       "      <td>31</td>\n",
       "      <td>1</td>\n",
       "    </tr>\n",
       "    <tr>\n",
       "      <td>29</td>\n",
       "      <td>2018</td>\n",
       "      <td>11</td>\n",
       "      <td>22</td>\n",
       "      <td>1</td>\n",
       "    </tr>\n",
       "    <tr>\n",
       "      <td>30</td>\n",
       "      <td>2018</td>\n",
       "      <td>12</td>\n",
       "      <td>25</td>\n",
       "      <td>1</td>\n",
       "    </tr>\n",
       "    <tr>\n",
       "      <td>31</td>\n",
       "      <td>2018</td>\n",
       "      <td>12</td>\n",
       "      <td>31</td>\n",
       "      <td>1</td>\n",
       "    </tr>\n",
       "    <tr>\n",
       "      <td>32</td>\n",
       "      <td>2019</td>\n",
       "      <td>1</td>\n",
       "      <td>1</td>\n",
       "      <td>1</td>\n",
       "    </tr>\n",
       "    <tr>\n",
       "      <td>33</td>\n",
       "      <td>2019</td>\n",
       "      <td>1</td>\n",
       "      <td>21</td>\n",
       "      <td>1</td>\n",
       "    </tr>\n",
       "    <tr>\n",
       "      <td>34</td>\n",
       "      <td>2019</td>\n",
       "      <td>2</td>\n",
       "      <td>3</td>\n",
       "      <td>1</td>\n",
       "    </tr>\n",
       "    <tr>\n",
       "      <td>35</td>\n",
       "      <td>2019</td>\n",
       "      <td>2</td>\n",
       "      <td>18</td>\n",
       "      <td>1</td>\n",
       "    </tr>\n",
       "    <tr>\n",
       "      <td>36</td>\n",
       "      <td>2019</td>\n",
       "      <td>3</td>\n",
       "      <td>17</td>\n",
       "      <td>1</td>\n",
       "    </tr>\n",
       "    <tr>\n",
       "      <td>37</td>\n",
       "      <td>2019</td>\n",
       "      <td>4</td>\n",
       "      <td>19</td>\n",
       "      <td>1</td>\n",
       "    </tr>\n",
       "    <tr>\n",
       "      <td>38</td>\n",
       "      <td>2019</td>\n",
       "      <td>4</td>\n",
       "      <td>21</td>\n",
       "      <td>1</td>\n",
       "    </tr>\n",
       "    <tr>\n",
       "      <td>39</td>\n",
       "      <td>2019</td>\n",
       "      <td>5</td>\n",
       "      <td>27</td>\n",
       "      <td>1</td>\n",
       "    </tr>\n",
       "    <tr>\n",
       "      <td>40</td>\n",
       "      <td>2019</td>\n",
       "      <td>7</td>\n",
       "      <td>4</td>\n",
       "      <td>1</td>\n",
       "    </tr>\n",
       "    <tr>\n",
       "      <td>41</td>\n",
       "      <td>2019</td>\n",
       "      <td>9</td>\n",
       "      <td>2</td>\n",
       "      <td>1</td>\n",
       "    </tr>\n",
       "    <tr>\n",
       "      <td>42</td>\n",
       "      <td>2019</td>\n",
       "      <td>10</td>\n",
       "      <td>31</td>\n",
       "      <td>1</td>\n",
       "    </tr>\n",
       "  </tbody>\n",
       "</table>\n",
       "</div>"
      ],
      "text/plain": [
       "    year  month  day  is_holiday\n",
       "0   2016     10   31           1\n",
       "1   2016     11   24           1\n",
       "2   2016     12   26           1\n",
       "3   2016     12   30           1\n",
       "4   2017      1    2           1\n",
       "5   2017      1   16           1\n",
       "6   2017      2    5           1\n",
       "7   2017      2   20           1\n",
       "8   2017      3   17           1\n",
       "9   2017      4   14           1\n",
       "10  2017      4   16           1\n",
       "11  2017      5   29           1\n",
       "12  2017      7    4           1\n",
       "13  2017      9    4           1\n",
       "14  2017     10   31           1\n",
       "15  2017     11   23           1\n",
       "16  2017     12   25           1\n",
       "17  2018      1    1           1\n",
       "18  2018      1    1           1\n",
       "19  2018      1   15           1\n",
       "20  2018      2    4           1\n",
       "21  2018      2   19           1\n",
       "22  2018      3   17           1\n",
       "23  2018      3   30           1\n",
       "24  2018      4    1           1\n",
       "25  2018      5   28           1\n",
       "26  2018      7    4           1\n",
       "27  2018      9    3           1\n",
       "28  2018     10   31           1\n",
       "29  2018     11   22           1\n",
       "30  2018     12   25           1\n",
       "31  2018     12   31           1\n",
       "32  2019      1    1           1\n",
       "33  2019      1   21           1\n",
       "34  2019      2    3           1\n",
       "35  2019      2   18           1\n",
       "36  2019      3   17           1\n",
       "37  2019      4   19           1\n",
       "38  2019      4   21           1\n",
       "39  2019      5   27           1\n",
       "40  2019      7    4           1\n",
       "41  2019      9    2           1\n",
       "42  2019     10   31           1"
      ]
     },
     "execution_count": 12,
     "metadata": {},
     "output_type": "execute_result"
    }
   ],
   "source": [
    "holidays"
   ]
  },
  {
   "cell_type": "code",
   "execution_count": 13,
   "metadata": {},
   "outputs": [],
   "source": [
    "merged = pd.merge(calls, weather, how='inner', on=['year', 'month', 'day', 'part_of_day'])"
   ]
  },
  {
   "cell_type": "code",
   "execution_count": 15,
   "metadata": {},
   "outputs": [],
   "source": [
    "merged2 = pd.merge(merged, holidays, how='left', on=['year', 'month', 'day'])"
   ]
  },
  {
   "cell_type": "code",
   "execution_count": 16,
   "metadata": {},
   "outputs": [],
   "source": [
    "merged2.is_holiday = merged2.is_holiday.replace(np.NaN, 0)"
   ]
  },
  {
   "cell_type": "code",
   "execution_count": 24,
   "metadata": {},
   "outputs": [],
   "source": [
    "merged.to_csv('call_grid_with_weather.csv')"
   ]
  },
  {
   "cell_type": "code",
   "execution_count": 17,
   "metadata": {},
   "outputs": [
    {
     "data": {
      "text/html": [
       "<div>\n",
       "<style scoped>\n",
       "    .dataframe tbody tr th:only-of-type {\n",
       "        vertical-align: middle;\n",
       "    }\n",
       "\n",
       "    .dataframe tbody tr th {\n",
       "        vertical-align: top;\n",
       "    }\n",
       "\n",
       "    .dataframe thead th {\n",
       "        text-align: right;\n",
       "    }\n",
       "</style>\n",
       "<table border=\"1\" class=\"dataframe\">\n",
       "  <thead>\n",
       "    <tr style=\"text-align: right;\">\n",
       "      <th></th>\n",
       "      <th>year</th>\n",
       "      <th>month</th>\n",
       "      <th>day</th>\n",
       "      <th>dow</th>\n",
       "      <th>week</th>\n",
       "      <th>part_of_day</th>\n",
       "      <th>lat_grid</th>\n",
       "      <th>lon_grid</th>\n",
       "      <th>count</th>\n",
       "      <th>weather_id</th>\n",
       "      <th>severe</th>\n",
       "      <th>temp_min</th>\n",
       "      <th>temp_max</th>\n",
       "      <th>is_holiday</th>\n",
       "    </tr>\n",
       "  </thead>\n",
       "  <tbody>\n",
       "    <tr>\n",
       "      <td>0</td>\n",
       "      <td>2016</td>\n",
       "      <td>9</td>\n",
       "      <td>20</td>\n",
       "      <td>1</td>\n",
       "      <td>38</td>\n",
       "      <td>1</td>\n",
       "      <td>5.0</td>\n",
       "      <td>3.0</td>\n",
       "      <td>1</td>\n",
       "      <td>800.5</td>\n",
       "      <td>0.0</td>\n",
       "      <td>61.661</td>\n",
       "      <td>70.169</td>\n",
       "      <td>0.0</td>\n",
       "    </tr>\n",
       "  </tbody>\n",
       "</table>\n",
       "</div>"
      ],
      "text/plain": [
       "   year  month  day  dow  week  part_of_day  lat_grid  lon_grid  count  weather_id  severe  temp_min  temp_max  is_holiday\n",
       "0  2016      9   20    1    38            1       5.0       3.0      1       800.5     0.0    61.661    70.169         0.0"
      ]
     },
     "execution_count": 17,
     "metadata": {},
     "output_type": "execute_result"
    }
   ],
   "source": [
    "## take a quick peak \n",
    "merged2.head(1)"
   ]
  },
  {
   "cell_type": "code",
   "execution_count": 44,
   "metadata": {},
   "outputs": [],
   "source": [
    "# then wrangle the data so we can start where we left off on the previous notebook\n",
    "df = df_copy\n",
    "df = wrangle(df)"
   ]
  },
  {
   "cell_type": "code",
   "execution_count": 10,
   "metadata": {},
   "outputs": [
    {
     "data": {
      "text/html": [
       "<div>\n",
       "<style scoped>\n",
       "    .dataframe tbody tr th:only-of-type {\n",
       "        vertical-align: middle;\n",
       "    }\n",
       "\n",
       "    .dataframe tbody tr th {\n",
       "        vertical-align: top;\n",
       "    }\n",
       "\n",
       "    .dataframe thead th {\n",
       "        text-align: right;\n",
       "    }\n",
       "</style>\n",
       "<table border=\"1\" class=\"dataframe\">\n",
       "  <thead>\n",
       "    <tr style=\"text-align: right;\">\n",
       "      <th></th>\n",
       "      <th>call_year</th>\n",
       "      <th>call_month</th>\n",
       "      <th>call_day</th>\n",
       "      <th>call_dow</th>\n",
       "      <th>call_week</th>\n",
       "      <th>call_minute</th>\n",
       "      <th>part_of_day</th>\n",
       "      <th>lat_grid</th>\n",
       "      <th>lon_grid</th>\n",
       "      <th>count</th>\n",
       "    </tr>\n",
       "  </thead>\n",
       "  <tbody>\n",
       "    <tr>\n",
       "      <td>0</td>\n",
       "      <td>2016</td>\n",
       "      <td>9</td>\n",
       "      <td>20</td>\n",
       "      <td>1</td>\n",
       "      <td>38</td>\n",
       "      <td>0</td>\n",
       "      <td>2</td>\n",
       "      <td>5.0</td>\n",
       "      <td>2.0</td>\n",
       "      <td>1</td>\n",
       "    </tr>\n",
       "    <tr>\n",
       "      <td>1</td>\n",
       "      <td>2016</td>\n",
       "      <td>9</td>\n",
       "      <td>20</td>\n",
       "      <td>1</td>\n",
       "      <td>38</td>\n",
       "      <td>0</td>\n",
       "      <td>2</td>\n",
       "      <td>5.0</td>\n",
       "      <td>8.0</td>\n",
       "      <td>1</td>\n",
       "    </tr>\n",
       "    <tr>\n",
       "      <td>2</td>\n",
       "      <td>2016</td>\n",
       "      <td>9</td>\n",
       "      <td>20</td>\n",
       "      <td>1</td>\n",
       "      <td>38</td>\n",
       "      <td>0</td>\n",
       "      <td>2</td>\n",
       "      <td>6.0</td>\n",
       "      <td>3.0</td>\n",
       "      <td>1</td>\n",
       "    </tr>\n",
       "    <tr>\n",
       "      <td>3</td>\n",
       "      <td>2016</td>\n",
       "      <td>9</td>\n",
       "      <td>20</td>\n",
       "      <td>1</td>\n",
       "      <td>38</td>\n",
       "      <td>0</td>\n",
       "      <td>2</td>\n",
       "      <td>8.0</td>\n",
       "      <td>9.0</td>\n",
       "      <td>1</td>\n",
       "    </tr>\n",
       "    <tr>\n",
       "      <td>4</td>\n",
       "      <td>2016</td>\n",
       "      <td>9</td>\n",
       "      <td>20</td>\n",
       "      <td>1</td>\n",
       "      <td>38</td>\n",
       "      <td>0</td>\n",
       "      <td>3</td>\n",
       "      <td>4.0</td>\n",
       "      <td>11.0</td>\n",
       "      <td>1</td>\n",
       "    </tr>\n",
       "  </tbody>\n",
       "</table>\n",
       "</div>"
      ],
      "text/plain": [
       "   call_year  call_month  call_day  call_dow  call_week  call_minute  part_of_day  lat_grid  lon_grid  count\n",
       "0       2016           9        20         1         38            0            2       5.0       2.0      1\n",
       "1       2016           9        20         1         38            0            2       5.0       8.0      1\n",
       "2       2016           9        20         1         38            0            2       6.0       3.0      1\n",
       "3       2016           9        20         1         38            0            2       8.0       9.0      1\n",
       "4       2016           9        20         1         38            0            3       4.0      11.0      1"
      ]
     },
     "execution_count": 10,
     "metadata": {},
     "output_type": "execute_result"
    }
   ],
   "source": [
    "df.head()"
   ]
  },
  {
   "cell_type": "code",
   "execution_count": 17,
   "metadata": {},
   "outputs": [
    {
     "data": {
      "text/html": [
       "<div>\n",
       "<style scoped>\n",
       "    .dataframe tbody tr th:only-of-type {\n",
       "        vertical-align: middle;\n",
       "    }\n",
       "\n",
       "    .dataframe tbody tr th {\n",
       "        vertical-align: top;\n",
       "    }\n",
       "\n",
       "    .dataframe thead th {\n",
       "        text-align: right;\n",
       "    }\n",
       "</style>\n",
       "<table border=\"1\" class=\"dataframe\">\n",
       "  <thead>\n",
       "    <tr style=\"text-align: right;\">\n",
       "      <th></th>\n",
       "      <th>call_year</th>\n",
       "      <th>call_month</th>\n",
       "      <th>call_day</th>\n",
       "      <th>call_dow</th>\n",
       "      <th>call_week</th>\n",
       "      <th>call_minute</th>\n",
       "      <th>part_of_day</th>\n",
       "      <th>lat_grid</th>\n",
       "      <th>lon_grid</th>\n",
       "      <th>count</th>\n",
       "    </tr>\n",
       "  </thead>\n",
       "  <tbody>\n",
       "    <tr>\n",
       "      <td>1269749</td>\n",
       "      <td>2019</td>\n",
       "      <td>1</td>\n",
       "      <td>1</td>\n",
       "      <td>1</td>\n",
       "      <td>1</td>\n",
       "      <td>58</td>\n",
       "      <td>4</td>\n",
       "      <td>5.0</td>\n",
       "      <td>3.0</td>\n",
       "      <td>1</td>\n",
       "    </tr>\n",
       "    <tr>\n",
       "      <td>1269750</td>\n",
       "      <td>2019</td>\n",
       "      <td>1</td>\n",
       "      <td>1</td>\n",
       "      <td>1</td>\n",
       "      <td>1</td>\n",
       "      <td>58</td>\n",
       "      <td>4</td>\n",
       "      <td>7.0</td>\n",
       "      <td>6.0</td>\n",
       "      <td>1</td>\n",
       "    </tr>\n",
       "    <tr>\n",
       "      <td>1269751</td>\n",
       "      <td>2019</td>\n",
       "      <td>1</td>\n",
       "      <td>1</td>\n",
       "      <td>1</td>\n",
       "      <td>1</td>\n",
       "      <td>58</td>\n",
       "      <td>4</td>\n",
       "      <td>8.0</td>\n",
       "      <td>4.0</td>\n",
       "      <td>2</td>\n",
       "    </tr>\n",
       "    <tr>\n",
       "      <td>1269752</td>\n",
       "      <td>2019</td>\n",
       "      <td>1</td>\n",
       "      <td>1</td>\n",
       "      <td>1</td>\n",
       "      <td>1</td>\n",
       "      <td>59</td>\n",
       "      <td>4</td>\n",
       "      <td>6.0</td>\n",
       "      <td>6.0</td>\n",
       "      <td>1</td>\n",
       "    </tr>\n",
       "    <tr>\n",
       "      <td>1269753</td>\n",
       "      <td>2019</td>\n",
       "      <td>1</td>\n",
       "      <td>1</td>\n",
       "      <td>1</td>\n",
       "      <td>1</td>\n",
       "      <td>59</td>\n",
       "      <td>4</td>\n",
       "      <td>7.0</td>\n",
       "      <td>6.0</td>\n",
       "      <td>1</td>\n",
       "    </tr>\n",
       "  </tbody>\n",
       "</table>\n",
       "</div>"
      ],
      "text/plain": [
       "         call_year  call_month  call_day  call_dow  call_week  call_minute  part_of_day  lat_grid  lon_grid  count\n",
       "1269749       2019           1         1         1          1           58            4       5.0       3.0      1\n",
       "1269750       2019           1         1         1          1           58            4       7.0       6.0      1\n",
       "1269751       2019           1         1         1          1           58            4       8.0       4.0      2\n",
       "1269752       2019           1         1         1          1           59            4       6.0       6.0      1\n",
       "1269753       2019           1         1         1          1           59            4       7.0       6.0      1"
      ]
     },
     "execution_count": 17,
     "metadata": {},
     "output_type": "execute_result"
    }
   ],
   "source": [
    "df.tail()"
   ]
  },
  {
   "cell_type": "markdown",
   "metadata": {},
   "source": [
    "# Training and Validation Splits, Feature Selection"
   ]
  },
  {
   "cell_type": "code",
   "execution_count": 16,
   "metadata": {},
   "outputs": [
    {
     "data": {
      "text/plain": [
       "call_year      2018.0\n",
       "call_month        8.0\n",
       "call_day         10.0\n",
       "call_dow          4.0\n",
       "call_week        32.0\n",
       "call_minute       7.0\n",
       "part_of_day       4.0\n",
       "lat_grid          6.0\n",
       "lon_grid          3.0\n",
       "count             1.0\n",
       "Name: 1015803, dtype: float64"
      ]
     },
     "execution_count": 16,
     "metadata": {},
     "output_type": "execute_result"
    }
   ],
   "source": [
    "int(len(df)*.8)\n",
    "\n",
    "df.iloc[1015803]"
   ]
  },
  {
   "cell_type": "code",
   "execution_count": 18,
   "metadata": {},
   "outputs": [
    {
     "data": {
      "text/plain": [
       "354160"
      ]
     },
     "execution_count": 18,
     "metadata": {},
     "output_type": "execute_result"
    }
   ],
   "source": [
    "train = merged2.loc[((merged2.year < 2019) | ((merged2.year == 2019) & (merged2.month < 8)))]\n",
    "len(train)"
   ]
  },
  {
   "cell_type": "code",
   "execution_count": 19,
   "metadata": {},
   "outputs": [
    {
     "data": {
      "text/plain": [
       "37952"
      ]
     },
     "execution_count": 19,
     "metadata": {},
     "output_type": "execute_result"
    }
   ],
   "source": [
    "val = merged2.loc[((merged2.year == 2019) & (merged2.month >= 8))]\n",
    "len(val)"
   ]
  },
  {
   "cell_type": "code",
   "execution_count": 20,
   "metadata": {},
   "outputs": [
    {
     "data": {
      "text/plain": [
       "0.1071606053761012"
      ]
     },
     "execution_count": 20,
     "metadata": {},
     "output_type": "execute_result"
    }
   ],
   "source": [
    "len(val) / len(train)"
   ]
  },
  {
   "cell_type": "code",
   "execution_count": 21,
   "metadata": {},
   "outputs": [],
   "source": [
    "target   = 'count'\n",
    "features = merged2.columns.tolist()\n",
    "features.remove(target)\n",
    "\n",
    "X_train = train[features]\n",
    "X_val   = val[features]\n",
    "\n",
    "y_train = train[target]\n",
    "y_val   = val[target]"
   ]
  },
  {
   "cell_type": "markdown",
   "metadata": {},
   "source": [
    "# First model\n",
    "Let's go with a simple linear regression model on the first run through"
   ]
  },
  {
   "cell_type": "code",
   "execution_count": 78,
   "metadata": {},
   "outputs": [
    {
     "data": {
      "text/plain": [
       "LinearRegression(copy_X=True, fit_intercept=True, n_jobs=None, normalize=False)"
      ]
     },
     "execution_count": 78,
     "metadata": {},
     "output_type": "execute_result"
    }
   ],
   "source": [
    "model = LinearRegression()\n",
    "\n",
    "model.fit(X_train, y_train)"
   ]
  },
  {
   "cell_type": "code",
   "execution_count": 43,
   "metadata": {},
   "outputs": [],
   "source": [
    "y_train_pred = model.predict(X_train)"
   ]
  },
  {
   "cell_type": "markdown",
   "metadata": {},
   "source": [
    "### Initial model grouped data by call_minute which was a mistake\n",
    "My initial hypotheses however is that the combination of a low r-squared value\n",
    "coupled with low train and testing errors is due to the fact that the datetime values inherently\n",
    "contain little variance and that the geographic trends are so strong that they overcome this \n",
    "failure of the model to explain variance"
   ]
  },
  {
   "cell_type": "markdown",
   "metadata": {},
   "source": [
    "# Without weather data"
   ]
  },
  {
   "cell_type": "code",
   "execution_count": 36,
   "metadata": {},
   "outputs": [
    {
     "name": "stdout",
     "output_type": "stream",
     "text": [
      "Train Error: 0.13\n",
      "R-Squared Score: 1.13%\n",
      "RMSE: 0.28\n"
     ]
    }
   ],
   "source": [
    "mae = mean_absolute_error(y_train, y_train_pred)\n",
    "print(f\"Train Error: {mae:.2f}\")\n",
    "\n",
    "r2 = r2_score(y_train, y_train_pred)\n",
    "print(f\"R-Squared Score: {r2*100:.2f}%\")\n",
    "\n",
    "mse = mean_squared_error(y_train, y_train_pred)\n",
    "rmse = np.sqrt(mse)\n",
    "print(f\"RMSE: {rmse:,.2f}\")"
   ]
  },
  {
   "cell_type": "code",
   "execution_count": 39,
   "metadata": {},
   "outputs": [
    {
     "name": "stdout",
     "output_type": "stream",
     "text": [
      "Val Error: 0.15\n",
      "R-Squared Score: 0.76%\n",
      "RMSE: 0.30\n"
     ]
    }
   ],
   "source": [
    "y_val_pred = model.predict(X_val)\n",
    "mae = mean_absolute_error(y_val, y_val_pred)\n",
    "print(f'Val Error: {mae:,.2f}')\n",
    "\n",
    "r2 = r2_score(y_val, y_val_pred)\n",
    "print(f\"R-Squared Score: {r2*100:.2f}%\")\n",
    "\n",
    "mse = mean_squared_error(y_val, y_val_pred)\n",
    "rmse = np.sqrt(mse)\n",
    "print(f\"RMSE: {rmse:,.2f}\")"
   ]
  },
  {
   "cell_type": "markdown",
   "metadata": {},
   "source": [
    "# With Weather Data"
   ]
  },
  {
   "cell_type": "code",
   "execution_count": 36,
   "metadata": {},
   "outputs": [
    {
     "name": "stdout",
     "output_type": "stream",
     "text": [
      "Train Error: 2.94\n",
      "R-Squared Score: 5.86%\n",
      "RMSE: 4.50\n"
     ]
    }
   ],
   "source": [
    "mae = mean_absolute_error(y_train, y_train_pred)\n",
    "print(f\"Train Error: {mae:.2f}\")\n",
    "\n",
    "r2 = r2_score(y_train, y_train_pred)\n",
    "print(f\"R-Squared Score: {r2*100:.2f}%\")\n",
    "\n",
    "mse = mean_squared_error(y_train, y_train_pred)\n",
    "rmse = np.sqrt(mse)\n",
    "print(f\"RMSE: {rmse:,.2f}\")"
   ]
  },
  {
   "cell_type": "code",
   "execution_count": 37,
   "metadata": {},
   "outputs": [
    {
     "name": "stdout",
     "output_type": "stream",
     "text": [
      "Val Error: 3.48\n",
      "R-Squared Score: 5.31%\n",
      "RMSE: 5.14\n"
     ]
    }
   ],
   "source": [
    "y_val_pred = model.predict(X_val)\n",
    "mae = mean_absolute_error(y_val, y_val_pred)\n",
    "print(f'Val Error: {mae:,.2f}')\n",
    "\n",
    "r2 = r2_score(y_val, y_val_pred)\n",
    "print(f\"R-Squared Score: {r2*100:.2f}%\")\n",
    "\n",
    "mse = mean_squared_error(y_val, y_val_pred)\n",
    "rmse = np.sqrt(mse)\n",
    "print(f\"RMSE: {rmse:,.2f}\")"
   ]
  },
  {
   "cell_type": "markdown",
   "metadata": {},
   "source": [
    "# With Holidays flagged"
   ]
  },
  {
   "cell_type": "code",
   "execution_count": 44,
   "metadata": {},
   "outputs": [
    {
     "name": "stdout",
     "output_type": "stream",
     "text": [
      "Train Error: 2.94\n",
      "R-Squared Score: 5.87%\n",
      "RMSE: 4.50\n"
     ]
    }
   ],
   "source": [
    "mae = mean_absolute_error(y_train, y_train_pred)\n",
    "print(f\"Train Error: {mae:.2f}\")\n",
    "\n",
    "r2 = r2_score(y_train, y_train_pred)\n",
    "print(f\"R-Squared Score: {r2*100:.2f}%\")\n",
    "\n",
    "mse = mean_squared_error(y_train, y_train_pred)\n",
    "rmse = np.sqrt(mse)\n",
    "print(f\"RMSE: {rmse:,.2f}\")"
   ]
  },
  {
   "cell_type": "code",
   "execution_count": 45,
   "metadata": {},
   "outputs": [
    {
     "name": "stdout",
     "output_type": "stream",
     "text": [
      "Val Error: 3.48\n",
      "R-Squared Score: 5.33%\n",
      "RMSE: 5.14\n"
     ]
    }
   ],
   "source": [
    "y_val_pred = model.predict(X_val)\n",
    "mae = mean_absolute_error(y_val, y_val_pred)\n",
    "print(f'Val Error: {mae:,.2f}')\n",
    "\n",
    "r2 = r2_score(y_val, y_val_pred)\n",
    "print(f\"R-Squared Score: {r2*100:.2f}%\")\n",
    "\n",
    "mse = mean_squared_error(y_val, y_val_pred)\n",
    "rmse = np.sqrt(mse)\n",
    "print(f\"RMSE: {rmse:,.2f}\")"
   ]
  },
  {
   "cell_type": "code",
   "execution_count": 79,
   "metadata": {},
   "outputs": [
    {
     "data": {
      "text/plain": [
       "0.05327898943122356"
      ]
     },
     "execution_count": 79,
     "metadata": {},
     "output_type": "execute_result"
    }
   ],
   "source": [
    "model.score(X_val, y_val)"
   ]
  },
  {
   "cell_type": "code",
   "execution_count": 80,
   "metadata": {},
   "outputs": [
    {
     "name": "stdout",
     "output_type": "stream",
     "text": [
      "Training model baseline accuracy: 19.84%\n",
      "\n",
      "Validation model baseline accuracy: 16.96%\n"
     ]
    }
   ],
   "source": [
    "train_base, val_base = calc_accuracy_score(y_train), calc_accuracy_score(y_val)\n",
    "\n",
    "print(f\"Training model baseline accuracy: {(train_base)*100:,.2f}%\" + \"\\n\")\n",
    "print(f\"Validation model baseline accuracy: {(val_base)*100:,.2f}%\")"
   ]
  },
  {
   "cell_type": "markdown",
   "metadata": {},
   "source": [
    "# Logistic Regression with Weather Only"
   ]
  },
  {
   "cell_type": "code",
   "execution_count": 46,
   "metadata": {},
   "outputs": [
    {
     "name": "stderr",
     "output_type": "stream",
     "text": [
      "C:\\Users\\btros\\Anaconda3\\lib\\site-packages\\sklearn\\linear_model\\logistic.py:947: ConvergenceWarning:\n",
      "\n",
      "lbfgs failed to converge. Increase the number of iterations.\n",
      "\n"
     ]
    },
    {
     "data": {
      "text/plain": [
       "LogisticRegression(C=1.0, class_weight=None, dual=False, fit_intercept=True,\n",
       "                   intercept_scaling=1, l1_ratio=None, max_iter=300,\n",
       "                   multi_class='auto', n_jobs=None, penalty='l2',\n",
       "                   random_state=None, solver='lbfgs', tol=0.0001, verbose=0,\n",
       "                   warm_start=False)"
      ]
     },
     "execution_count": 46,
     "metadata": {},
     "output_type": "execute_result"
    }
   ],
   "source": [
    "model = LogisticRegression(solver='lbfgs', max_iter=300, multi_class='auto')\n",
    "\n",
    "model.fit(X_train, y_train)"
   ]
  },
  {
   "cell_type": "code",
   "execution_count": 85,
   "metadata": {},
   "outputs": [
    {
     "name": "stdout",
     "output_type": "stream",
     "text": [
      "Train Error: 3.62\n",
      "R-Squared Score: -60.23%\n",
      "RMSE: 5.87\n"
     ]
    }
   ],
   "source": [
    "y_train_pred = model.predict(X_train)\n",
    "\n",
    "mae = mean_absolute_error(y_train, y_train_pred)\n",
    "print(f\"Train Error: {mae:.2f}\")\n",
    "\n",
    "r2 = r2_score(y_train, y_train_pred)\n",
    "print(f\"R-Squared Score: {r2*100:.2f}%\")\n",
    "\n",
    "mse = mean_squared_error(y_train, y_train_pred)\n",
    "rmse = np.sqrt(mse)\n",
    "print(f\"RMSE: {rmse:,.2f}\")"
   ]
  },
  {
   "cell_type": "code",
   "execution_count": 86,
   "metadata": {},
   "outputs": [
    {
     "name": "stdout",
     "output_type": "stream",
     "text": [
      "Val Error: 4.43\n",
      "R-Squared Score: -70.04%\n",
      "RMSE: 6.88\n"
     ]
    }
   ],
   "source": [
    "y_val_pred = model.predict(X_val)\n",
    "mae = mean_absolute_error(y_val, y_val_pred)\n",
    "print(f'Val Error: {mae:,.2f}')\n",
    "\n",
    "r2 = r2_score(y_val, y_val_pred)\n",
    "print(f\"R-Squared Score: {r2*100:.2f}%\")\n",
    "\n",
    "mse = mean_squared_error(y_val, y_val_pred)\n",
    "rmse = np.sqrt(mse)\n",
    "print(f\"RMSE: {rmse:,.2f}\")"
   ]
  },
  {
   "cell_type": "code",
   "execution_count": 77,
   "metadata": {},
   "outputs": [
    {
     "data": {
      "text/plain": [
       "0.16961819351420895"
      ]
     },
     "execution_count": 77,
     "metadata": {},
     "output_type": "execute_result"
    }
   ],
   "source": [
    "model.score(X_val, y_val)"
   ]
  },
  {
   "cell_type": "markdown",
   "metadata": {},
   "source": [
    "# Holidays Flagged"
   ]
  },
  {
   "cell_type": "code",
   "execution_count": 47,
   "metadata": {},
   "outputs": [
    {
     "name": "stdout",
     "output_type": "stream",
     "text": [
      "Train Error: 3.72\n",
      "R-Squared Score: -64.35%\n",
      "RMSE: 5.94\n"
     ]
    }
   ],
   "source": [
    "y_train_pred = model.predict(X_train)\n",
    "\n",
    "mae = mean_absolute_error(y_train, y_train_pred)\n",
    "print(f\"Train Error: {mae:.2f}\")\n",
    "\n",
    "r2 = r2_score(y_train, y_train_pred)\n",
    "print(f\"R-Squared Score: {r2*100:.2f}%\")\n",
    "\n",
    "mse = mean_squared_error(y_train, y_train_pred)\n",
    "rmse = np.sqrt(mse)\n",
    "print(f\"RMSE: {rmse:,.2f}\")"
   ]
  },
  {
   "cell_type": "code",
   "execution_count": 48,
   "metadata": {},
   "outputs": [
    {
     "name": "stdout",
     "output_type": "stream",
     "text": [
      "Val Error: 4.52\n",
      "R-Squared Score: -73.22%\n",
      "RMSE: 6.95\n"
     ]
    }
   ],
   "source": [
    "y_val_pred = model.predict(X_val)\n",
    "mae = mean_absolute_error(y_val, y_val_pred)\n",
    "print(f'Val Error: {mae:,.2f}')\n",
    "\n",
    "r2 = r2_score(y_val, y_val_pred)\n",
    "print(f\"R-Squared Score: {r2*100:.2f}%\")\n",
    "\n",
    "mse = mean_squared_error(y_val, y_val_pred)\n",
    "rmse = np.sqrt(mse)\n",
    "print(f\"RMSE: {rmse:,.2f}\")"
   ]
  },
  {
   "cell_type": "code",
   "execution_count": 73,
   "metadata": {},
   "outputs": [
    {
     "data": {
      "text/plain": [
       "0.16961819351420895"
      ]
     },
     "execution_count": 73,
     "metadata": {},
     "output_type": "execute_result"
    }
   ],
   "source": [
    "model.score(X_val, y_val)"
   ]
  },
  {
   "cell_type": "code",
   "execution_count": 67,
   "metadata": {},
   "outputs": [],
   "source": [
    "base = [y_val.value_counts().index[0]] * len(y_val)"
   ]
  },
  {
   "cell_type": "code",
   "execution_count": 69,
   "metadata": {},
   "outputs": [
    {
     "data": {
      "text/plain": [
       "48.26001816324214"
      ]
     },
     "execution_count": 69,
     "metadata": {},
     "output_type": "execute_result"
    }
   ],
   "source": [
    "mse = mean_squared_error(y_val, base)\n",
    "mse"
   ]
  },
  {
   "cell_type": "code",
   "execution_count": 75,
   "metadata": {},
   "outputs": [],
   "source": [
    "\n",
    "def calc_accuracy_score(target_feature):\n",
    "  majority_class = target_feature.mode()[0]               #   Find the mode of the target feature\n",
    "  target_pred = [majority_class] * len(target_feature)    #   Create a list the length of the target feature with consisting of the mode as the sole value\n",
    "\n",
    "  score = accuracy_score(target_feature, target_pred)     \n",
    "\n",
    "  return score"
   ]
  },
  {
   "cell_type": "code",
   "execution_count": 76,
   "metadata": {},
   "outputs": [
    {
     "name": "stdout",
     "output_type": "stream",
     "text": [
      "Training model baseline accuracy: 19.84%\n",
      "\n",
      "Validation model baseline accuracy: 16.96%\n"
     ]
    }
   ],
   "source": [
    "train_base, val_base = calc_accuracy_score(y_train), calc_accuracy_score(y_val)\n",
    "\n",
    "print(f\"Training model baseline accuracy: {(train_base)*100:,.2f}%\" + \"\\n\")\n",
    "print(f\"Validation model baseline accuracy: {(val_base)*100:,.2f}%\")"
   ]
  },
  {
   "cell_type": "markdown",
   "metadata": {},
   "source": [
    "### Grouping by call_minute error fixed \n",
    "Metrics still seem to support my initial hypothesis however we will try some different models and see what happens"
   ]
  },
  {
   "cell_type": "code",
   "execution_count": 51,
   "metadata": {},
   "outputs": [
    {
     "name": "stdout",
     "output_type": "stream",
     "text": [
      "Train Error: 2.95\n",
      "R-Squared Score: 5.63%\n",
      "RMSE: 4.50\n"
     ]
    }
   ],
   "source": [
    "mae = mean_absolute_error(y_train, y_train_pred)\n",
    "print(f\"Train Error: {mae:.2f}\")\n",
    "\n",
    "r2 = r2_score(y_train, y_train_pred)\n",
    "print(f\"R-Squared Score: {r2*100:.2f}%\")\n",
    "\n",
    "mse = mean_squared_error(y_train, y_train_pred)\n",
    "rmse = np.sqrt(mse)\n",
    "print(f\"RMSE: {rmse:,.2f}\")"
   ]
  },
  {
   "cell_type": "code",
   "execution_count": 52,
   "metadata": {},
   "outputs": [
    {
     "name": "stdout",
     "output_type": "stream",
     "text": [
      "Val Error: 3.51\n",
      "R-Squared Score: 5.36%\n",
      "RMSE: 5.14\n"
     ]
    }
   ],
   "source": [
    "y_val_pred = model.predict(X_val)\n",
    "mae = mean_absolute_error(y_val, y_val_pred)\n",
    "print(f'Val Error: {mae:,.2f}')\n",
    "\n",
    "r2 = r2_score(y_val, y_val_pred)\n",
    "print(f\"R-Squared Score: {r2*100:.2f}%\")\n",
    "\n",
    "mse = mean_squared_error(y_val, y_val_pred)\n",
    "rmse = np.sqrt(mse)\n",
    "print(f\"RMSE: {rmse:,.2f}\")"
   ]
  },
  {
   "cell_type": "code",
   "execution_count": 53,
   "metadata": {
    "collapsed": true,
    "jupyter": {
     "outputs_hidden": true
    }
   },
   "outputs": [
    {
     "data": {
      "text/plain": [
       "1     8987\n",
       "2     7662\n",
       "3     6642\n",
       "4     5699\n",
       "5     4881\n",
       "6     3981\n",
       "7     3161\n",
       "8     2395\n",
       "9     1853\n",
       "10    1420\n",
       "11    1099\n",
       "12     870\n",
       "13     633\n",
       "14     538\n",
       "15     409\n",
       "16     354\n",
       "17     267\n",
       "18     259\n",
       "19     229\n",
       "20     197\n",
       "21     146\n",
       "22     138\n",
       "23     134\n",
       "24     118\n",
       "25     112\n",
       "26      88\n",
       "27      86\n",
       "28      71\n",
       "29      62\n",
       "30      60\n",
       "32      51\n",
       "33      40\n",
       "31      38\n",
       "34      31\n",
       "35      22\n",
       "38      20\n",
       "36      20\n",
       "41      15\n",
       "39      15\n",
       "37      13\n",
       "40      11\n",
       "42       8\n",
       "43       6\n",
       "47       4\n",
       "44       4\n",
       "46       3\n",
       "45       3\n",
       "54       3\n",
       "50       2\n",
       "51       2\n",
       "52       2\n",
       "58       2\n",
       "49       1\n",
       "66       1\n",
       "Name: count, dtype: int64"
      ]
     },
     "execution_count": 53,
     "metadata": {},
     "output_type": "execute_result"
    }
   ],
   "source": [
    "y_val.value_counts()"
   ]
  },
  {
   "cell_type": "code",
   "execution_count": 54,
   "metadata": {},
   "outputs": [
    {
     "data": {
      "text/plain": [
       "52868"
      ]
     },
     "execution_count": 54,
     "metadata": {},
     "output_type": "execute_result"
    }
   ],
   "source": [
    "len(y_val == y_val_pred)"
   ]
  },
  {
   "cell_type": "markdown",
   "metadata": {},
   "source": [
    "# Decision Tree Regressor"
   ]
  },
  {
   "cell_type": "code",
   "execution_count": 38,
   "metadata": {},
   "outputs": [],
   "source": [
    "model = DecisionTreeRegressor()"
   ]
  },
  {
   "cell_type": "code",
   "execution_count": 39,
   "metadata": {},
   "outputs": [],
   "source": [
    "model.fit(X_train, y_train)\n",
    "y_train_pred = model.predict(X_train)"
   ]
  },
  {
   "cell_type": "code",
   "execution_count": 61,
   "metadata": {},
   "outputs": [
    {
     "name": "stdout",
     "output_type": "stream",
     "text": [
      "Train Error: 0.00\n",
      "R-Squared Score: 100.00%\n",
      "RMSE: 0.00\n"
     ]
    }
   ],
   "source": [
    "mae = mean_absolute_error(y_train, y_train_pred)\n",
    "print(f\"Train Error: {mae:.2f}\")\n",
    "\n",
    "r2 = r2_score(y_train, y_train_pred)\n",
    "print(f\"R-Squared Score: {r2*100:.2f}%\")\n",
    "\n",
    "mse = mean_squared_error(y_train, y_train_pred)\n",
    "rmse = np.sqrt(mse)\n",
    "print(f\"RMSE: {rmse:,.2f}\")"
   ]
  },
  {
   "cell_type": "code",
   "execution_count": 62,
   "metadata": {},
   "outputs": [
    {
     "name": "stdout",
     "output_type": "stream",
     "text": [
      "Val Error: 3.02\n",
      "R-Squared Score: 27.28%\n",
      "RMSE: 4.50\n"
     ]
    }
   ],
   "source": [
    "y_val_pred = model.predict(X_val)\n",
    "mae = mean_absolute_error(y_val, y_val_pred)\n",
    "print(f'Val Error: {mae:,.2f}')\n",
    "\n",
    "r2 = r2_score(y_val, y_val_pred)\n",
    "print(f\"R-Squared Score: {r2*100:.2f}%\")\n",
    "\n",
    "mse = mean_squared_error(y_val, y_val_pred)\n",
    "rmse = np.sqrt(mse)\n",
    "print(f\"RMSE: {rmse:,.2f}\")"
   ]
  },
  {
   "cell_type": "markdown",
   "metadata": {},
   "source": [
    "# With Weather Data"
   ]
  },
  {
   "cell_type": "code",
   "execution_count": 40,
   "metadata": {},
   "outputs": [
    {
     "name": "stdout",
     "output_type": "stream",
     "text": [
      "Train Error: 0.00\n",
      "R-Squared Score: 100.00%\n",
      "RMSE: 0.00\n"
     ]
    }
   ],
   "source": [
    "mae = mean_absolute_error(y_train, y_train_pred)\n",
    "print(f\"Train Error: {mae:.2f}\")\n",
    "\n",
    "r2 = r2_score(y_train, y_train_pred)\n",
    "print(f\"R-Squared Score: {r2*100:.2f}%\")\n",
    "\n",
    "mse = mean_squared_error(y_train, y_train_pred)\n",
    "rmse = np.sqrt(mse)\n",
    "print(f\"RMSE: {rmse:,.2f}\")"
   ]
  },
  {
   "cell_type": "code",
   "execution_count": 41,
   "metadata": {},
   "outputs": [
    {
     "name": "stdout",
     "output_type": "stream",
     "text": [
      "Val Error: 3.04\n",
      "R-Squared Score: 27.58%\n",
      "RMSE: 4.49\n"
     ]
    }
   ],
   "source": [
    "y_val_pred = model.predict(X_val)\n",
    "mae = mean_absolute_error(y_val, y_val_pred)\n",
    "print(f'Val Error: {mae:,.2f}')\n",
    "\n",
    "r2 = r2_score(y_val, y_val_pred)\n",
    "print(f\"R-Squared Score: {r2*100:.2f}%\")\n",
    "\n",
    "mse = mean_squared_error(y_val, y_val_pred)\n",
    "rmse = np.sqrt(mse)\n",
    "print(f\"RMSE: {rmse:,.2f}\")"
   ]
  },
  {
   "cell_type": "markdown",
   "metadata": {},
   "source": [
    "# Random Forest Regressor"
   ]
  },
  {
   "cell_type": "code",
   "execution_count": 22,
   "metadata": {},
   "outputs": [],
   "source": [
    "from sklearn.ensemble import RandomForestRegressor"
   ]
  },
  {
   "cell_type": "code",
   "execution_count": 23,
   "metadata": {},
   "outputs": [],
   "source": [
    "model = RandomForestRegressor(n_estimators=100,\n",
    "                              n_jobs=-1)"
   ]
  },
  {
   "cell_type": "code",
   "execution_count": 24,
   "metadata": {},
   "outputs": [],
   "source": [
    "model.fit(X_train, y_train)\n",
    "y_train_pred = model.predict(X_train)"
   ]
  },
  {
   "cell_type": "markdown",
   "metadata": {},
   "source": [
    "## Default estimators"
   ]
  },
  {
   "cell_type": "code",
   "execution_count": 66,
   "metadata": {},
   "outputs": [
    {
     "name": "stdout",
     "output_type": "stream",
     "text": [
      "Train Error: 0.75\n",
      "R-Squared Score: 93.91%\n",
      "RMSE: 1.14\n"
     ]
    }
   ],
   "source": [
    "mae = mean_absolute_error(y_train, y_train_pred)\n",
    "print(f\"Train Error: {mae:.2f}\")\n",
    "\n",
    "r2 = r2_score(y_train, y_train_pred)\n",
    "print(f\"R-Squared Score: {r2*100:.2f}%\")\n",
    "\n",
    "mse = mean_squared_error(y_train, y_train_pred)\n",
    "rmse = np.sqrt(mse)\n",
    "print(f\"RMSE: {rmse:,.2f}\")\n",
    "\n",
    "print(model.score(X_val, y_val))"
   ]
  },
  {
   "cell_type": "code",
   "execution_count": 67,
   "metadata": {},
   "outputs": [
    {
     "name": "stdout",
     "output_type": "stream",
     "text": [
      "Val Error: 2.42\n",
      "R-Squared Score: 54.32%\n",
      "RMSE: 3.57\n"
     ]
    }
   ],
   "source": [
    "y_val_pred = model.predict(X_val)\n",
    "mae = mean_absolute_error(y_val, y_val_pred)\n",
    "print(f'Val Error: {mae:,.2f}')\n",
    "\n",
    "r2 = r2_score(y_val, y_val_pred)\n",
    "print(f\"R-Squared Score: {r2*100:.2f}%\")\n",
    "\n",
    "mse = mean_squared_error(y_val, y_val_pred)\n",
    "rmse = np.sqrt(mse)\n",
    "print(f\"RMSE: {rmse:,.2f}\")"
   ]
  },
  {
   "cell_type": "markdown",
   "metadata": {},
   "source": [
    "## 400 trees"
   ]
  },
  {
   "cell_type": "code",
   "execution_count": 71,
   "metadata": {},
   "outputs": [
    {
     "name": "stdout",
     "output_type": "stream",
     "text": [
      "Train Error: 0.68\n",
      "R-Squared Score: 95.60%\n",
      "RMSE: 0.97\n"
     ]
    }
   ],
   "source": [
    "mae = mean_absolute_error(y_train, y_train_pred)\n",
    "print(f\"Train Error: {mae:.2f}\")\n",
    "\n",
    "r2 = r2_score(y_train, y_train_pred)\n",
    "print(f\"R-Squared Score: {r2*100:.2f}%\")\n",
    "\n",
    "mse = mean_squared_error(y_train, y_train_pred)\n",
    "rmse = np.sqrt(mse)\n",
    "print(f\"RMSE: {rmse:,.2f}\")"
   ]
  },
  {
   "cell_type": "code",
   "execution_count": 79,
   "metadata": {},
   "outputs": [
    {
     "data": {
      "text/plain": [
       "(4682, 8)"
      ]
     },
     "execution_count": 79,
     "metadata": {},
     "output_type": "execute_result"
    }
   ],
   "source": [
    "4682"
   ]
  },
  {
   "cell_type": "code",
   "execution_count": 72,
   "metadata": {},
   "outputs": [
    {
     "name": "stdout",
     "output_type": "stream",
     "text": [
      "Val Error: 2.35\n",
      "R-Squared Score: 56.80%\n",
      "RMSE: 3.47\n"
     ]
    }
   ],
   "source": [
    "y_val_pred = model.predict(X_val)\n",
    "mae = mean_absolute_error(y_val, y_val_pred)\n",
    "print(f'Val Error: {mae:,.2f}')\n",
    "\n",
    "r2 = r2_score(y_val, y_val_pred)\n",
    "print(f\"R-Squared Score: {r2*100:.2f}%\")\n",
    "\n",
    "mse = mean_squared_error(y_val, y_val_pred)\n",
    "rmse = np.sqrt(mse)\n",
    "print(f\"RMSE: {rmse:,.2f}\")"
   ]
  },
  {
   "cell_type": "markdown",
   "metadata": {},
   "source": [
    "# With Weather Data"
   ]
  },
  {
   "cell_type": "code",
   "execution_count": 45,
   "metadata": {},
   "outputs": [
    {
     "name": "stdout",
     "output_type": "stream",
     "text": [
      "Train Error: 0.68\n",
      "R-Squared Score: 95.69%\n",
      "RMSE: 0.96\n"
     ]
    }
   ],
   "source": [
    "mae = mean_absolute_error(y_train, y_train_pred)\n",
    "print(f\"Train Error: {mae:.2f}\")\n",
    "\n",
    "r2 = r2_score(y_train, y_train_pred)\n",
    "print(f\"R-Squared Score: {r2*100:.2f}%\")\n",
    "\n",
    "mse = mean_squared_error(y_train, y_train_pred)\n",
    "rmse = np.sqrt(mse)\n",
    "print(f\"RMSE: {rmse:,.2f}\")"
   ]
  },
  {
   "cell_type": "code",
   "execution_count": 46,
   "metadata": {},
   "outputs": [
    {
     "name": "stdout",
     "output_type": "stream",
     "text": [
      "Val Error: 2.25\n",
      "R-Squared Score: 60.82%\n",
      "RMSE: 3.30\n"
     ]
    }
   ],
   "source": [
    "y_val_pred = model.predict(X_val)\n",
    "mae = mean_absolute_error(y_val, y_val_pred)\n",
    "print(f'Val Error: {mae:,.2f}')\n",
    "\n",
    "r2 = r2_score(y_val, y_val_pred)\n",
    "print(f\"R-Squared Score: {r2*100:.2f}%\")\n",
    "\n",
    "mse = mean_squared_error(y_val, y_val_pred)\n",
    "rmse = np.sqrt(mse)\n",
    "print(f\"RMSE: {rmse:,.2f}\")"
   ]
  },
  {
   "cell_type": "code",
   "execution_count": 53,
   "metadata": {},
   "outputs": [
    {
     "data": {
      "text/plain": [
       "1     0.178266\n",
       "2     0.152037\n",
       "3     0.130216\n",
       "4     0.109458\n",
       "5     0.089651\n",
       "6     0.072057\n",
       "7     0.056449\n",
       "8     0.043335\n",
       "9     0.033791\n",
       "10    0.025994\n",
       "11    0.019470\n",
       "12    0.015391\n",
       "13    0.011649\n",
       "14    0.009355\n",
       "15    0.007435\n",
       "16    0.006144\n",
       "17    0.005148\n",
       "18    0.004349\n",
       "19    0.003510\n",
       "20    0.003252\n",
       "21    0.002831\n",
       "22    0.002481\n",
       "23    0.002185\n",
       "24    0.001914\n",
       "25    0.001644\n",
       "26    0.001493\n",
       "27    0.001327\n",
       "28    0.001169\n",
       "29    0.001077\n",
       "30    0.000891\n",
       "31    0.000776\n",
       "32    0.000743\n",
       "33    0.000625\n",
       "35    0.000493\n",
       "34    0.000467\n",
       "36    0.000416\n",
       "37    0.000368\n",
       "38    0.000324\n",
       "39    0.000311\n",
       "40    0.000209\n",
       "41    0.000191\n",
       "42    0.000184\n",
       "43    0.000130\n",
       "44    0.000120\n",
       "46    0.000102\n",
       "45    0.000077\n",
       "47    0.000071\n",
       "48    0.000056\n",
       "49    0.000056\n",
       "52    0.000038\n",
       "55    0.000033\n",
       "50    0.000033\n",
       "53    0.000031\n",
       "51    0.000031\n",
       "54    0.000026\n",
       "56    0.000026\n",
       "57    0.000020\n",
       "60    0.000013\n",
       "59    0.000010\n",
       "63    0.000010\n",
       "58    0.000008\n",
       "61    0.000008\n",
       "64    0.000008\n",
       "67    0.000005\n",
       "72    0.000003\n",
       "78    0.000003\n",
       "66    0.000003\n",
       "62    0.000003\n",
       "87    0.000003\n",
       "Name: count, dtype: float64"
      ]
     },
     "execution_count": 53,
     "metadata": {},
     "output_type": "execute_result"
    }
   ],
   "source": [
    "merged['count'].value_counts(normalize=True)"
   ]
  },
  {
   "cell_type": "markdown",
   "metadata": {},
   "source": [
    "# XGBRegressor"
   ]
  },
  {
   "cell_type": "code",
   "execution_count": 48,
   "metadata": {},
   "outputs": [],
   "source": [
    "from xgboost import XGBRegressor"
   ]
  },
  {
   "cell_type": "code",
   "execution_count": 49,
   "metadata": {},
   "outputs": [
    {
     "name": "stderr",
     "output_type": "stream",
     "text": [
      "C:\\Users\\btros\\Anaconda3\\lib\\site-packages\\xgboost\\core.py:587: FutureWarning:\n",
      "\n",
      "Series.base is deprecated and will be removed in a future version\n",
      "\n",
      "C:\\Users\\btros\\Anaconda3\\lib\\site-packages\\xgboost\\core.py:588: FutureWarning:\n",
      "\n",
      "Series.base is deprecated and will be removed in a future version\n",
      "\n"
     ]
    },
    {
     "name": "stdout",
     "output_type": "stream",
     "text": [
      "[14:16:06] WARNING: C:/Jenkins/workspace/xgboost-win64_release_0.90/src/objective/regression_obj.cu:152: reg:linear is now deprecated in favor of reg:squarederror.\n"
     ]
    },
    {
     "data": {
      "text/plain": [
       "XGBRegressor(base_score=0.5, booster='gbtree', colsample_bylevel=1,\n",
       "             colsample_bynode=1, colsample_bytree=1, gamma=0,\n",
       "             importance_type='gain', learning_rate=0.1, max_delta_step=0,\n",
       "             max_depth=3, min_child_weight=1, missing=None, n_estimators=400,\n",
       "             n_jobs=-1, nthread=None, objective='reg:linear', random_state=42,\n",
       "             reg_alpha=0, reg_lambda=1, scale_pos_weight=1, seed=None,\n",
       "             silent=None, subsample=1, verbosity=1)"
      ]
     },
     "execution_count": 49,
     "metadata": {},
     "output_type": "execute_result"
    }
   ],
   "source": [
    "model = XGBRegressor(n_estimators=400, random_state=42, n_jobs=-1)\n",
    "model.fit(X_train, y_train)"
   ]
  },
  {
   "cell_type": "code",
   "execution_count": 82,
   "metadata": {},
   "outputs": [
    {
     "name": "stdout",
     "output_type": "stream",
     "text": [
      "Train Error: 2.01\n",
      "R-Squared Score: 60.61%\n",
      "RMSE: 2.91\n"
     ]
    }
   ],
   "source": [
    "y_train_pred = model.predict(X_train)\n",
    "mae = mean_absolute_error(y_train, y_train_pred)\n",
    "print(f\"Train Error: {mae:.2f}\")\n",
    "\n",
    "r2 = r2_score(y_train, y_train_pred)\n",
    "print(f\"R-Squared Score: {r2*100:.2f}%\")\n",
    "\n",
    "mse = mean_squared_error(y_train, y_train_pred)\n",
    "rmse = np.sqrt(mse)\n",
    "print(f\"RMSE: {rmse:,.2f}\")"
   ]
  },
  {
   "cell_type": "code",
   "execution_count": 83,
   "metadata": {},
   "outputs": [
    {
     "name": "stdout",
     "output_type": "stream",
     "text": [
      "Val Error: 2.47\n",
      "R-Squared Score: 51.83%\n",
      "RMSE: 3.66\n"
     ]
    }
   ],
   "source": [
    "y_val_pred = model.predict(X_val)\n",
    "mae = mean_absolute_error(y_val, y_val_pred)\n",
    "print(f'Val Error: {mae:,.2f}')\n",
    "\n",
    "r2 = r2_score(y_val, y_val_pred)\n",
    "print(f\"R-Squared Score: {r2*100:.2f}%\")\n",
    "\n",
    "mse = mean_squared_error(y_val, y_val_pred)\n",
    "rmse = np.sqrt(mse)\n",
    "print(f\"RMSE: {rmse:,.2f}\")"
   ]
  },
  {
   "cell_type": "markdown",
   "metadata": {},
   "source": [
    "# With Weather Data"
   ]
  },
  {
   "cell_type": "code",
   "execution_count": 50,
   "metadata": {},
   "outputs": [
    {
     "name": "stdout",
     "output_type": "stream",
     "text": [
      "Train Error: 2.01\n",
      "R-Squared Score: 60.79%\n",
      "RMSE: 2.90\n"
     ]
    }
   ],
   "source": [
    "y_train_pred = model.predict(X_train)\n",
    "mae = mean_absolute_error(y_train, y_train_pred)\n",
    "print(f\"Train Error: {mae:.2f}\")\n",
    "\n",
    "r2 = r2_score(y_train, y_train_pred)\n",
    "print(f\"R-Squared Score: {r2*100:.2f}%\")\n",
    "\n",
    "mse = mean_squared_error(y_train, y_train_pred)\n",
    "rmse = np.sqrt(mse)\n",
    "print(f\"RMSE: {rmse:,.2f}\")"
   ]
  },
  {
   "cell_type": "code",
   "execution_count": 51,
   "metadata": {},
   "outputs": [
    {
     "name": "stdout",
     "output_type": "stream",
     "text": [
      "Val Error: 2.44\n",
      "R-Squared Score: 52.07%\n",
      "RMSE: 3.65\n"
     ]
    }
   ],
   "source": [
    "y_val_pred = model.predict(X_val)\n",
    "mae = mean_absolute_error(y_val, y_val_pred)\n",
    "print(f'Val Error: {mae:,.2f}')\n",
    "\n",
    "r2 = r2_score(y_val, y_val_pred)\n",
    "print(f\"R-Squared Score: {r2*100:.2f}%\")\n",
    "\n",
    "mse = mean_squared_error(y_val, y_val_pred)\n",
    "rmse = np.sqrt(mse)\n",
    "print(f\"RMSE: {rmse:,.2f}\")"
   ]
  },
  {
   "cell_type": "markdown",
   "metadata": {},
   "source": [
    "# Moving Forward With Random Forest Regressor"
   ]
  },
  {
   "cell_type": "code",
   "execution_count": 85,
   "metadata": {
    "collapsed": true,
    "jupyter": {
     "outputs_hidden": true
    }
   },
   "outputs": [
    {
     "name": "stdout",
     "output_type": "stream",
     "text": [
      "Collecting eli5\n",
      "  Downloading https://files.pythonhosted.org/packages/97/2f/c85c7d8f8548e460829971785347e14e45fa5c6617da374711dec8cb38cc/eli5-0.10.1-py2.py3-none-any.whl (105kB)\n",
      "Collecting graphviz (from eli5)\n",
      "  Downloading https://files.pythonhosted.org/packages/f5/74/dbed754c0abd63768d3a7a7b472da35b08ac442cf87d73d5850a6f32391e/graphviz-0.13.2-py2.py3-none-any.whl\n",
      "Requirement already satisfied: jinja2 in c:\\users\\btros\\anaconda3\\lib\\site-packages (from eli5) (2.10.3)\n",
      "Collecting tabulate>=0.7.7 (from eli5)\n",
      "  Downloading https://files.pythonhosted.org/packages/66/d4/977fdd5186b7cdbb7c43a7aac7c5e4e0337a84cb802e154616f3cfc84563/tabulate-0.8.5.tar.gz (45kB)\n",
      "Requirement already satisfied: scikit-learn>=0.18 in c:\\users\\btros\\anaconda3\\lib\\site-packages (from eli5) (0.21.3)\n",
      "Requirement already satisfied: numpy>=1.9.0 in c:\\users\\btros\\anaconda3\\lib\\site-packages (from eli5) (1.16.5)\n",
      "Requirement already satisfied: scipy in c:\\users\\btros\\anaconda3\\lib\\site-packages (from eli5) (1.3.1)\n",
      "Requirement already satisfied: attrs>16.0.0 in c:\\users\\btros\\anaconda3\\lib\\site-packages (from eli5) (19.2.0)\n",
      "Requirement already satisfied: six in c:\\users\\btros\\anaconda3\\lib\\site-packages (from eli5) (1.12.0)\n",
      "Requirement already satisfied: MarkupSafe>=0.23 in c:\\users\\btros\\anaconda3\\lib\\site-packages (from jinja2->eli5) (1.1.1)\n",
      "Requirement already satisfied: joblib>=0.11 in c:\\users\\btros\\anaconda3\\lib\\site-packages (from scikit-learn>=0.18->eli5) (0.13.2)\n",
      "Building wheels for collected packages: tabulate\n",
      "  Building wheel for tabulate (setup.py): started\n",
      "  Building wheel for tabulate (setup.py): finished with status 'done'\n",
      "  Created wheel for tabulate: filename=tabulate-0.8.5-cp37-none-any.whl size=23261 sha256=8b05781980db1ed4ef9f8dd406b714d64fd26d29633403c6d2cc90f77e831339\n",
      "  Stored in directory: C:\\Users\\btros\\AppData\\Local\\pip\\Cache\\wheels\\e1\\41\\5e\\e201f95d90fc84f93aa629b6638adacda680fe63aac47174ab\n",
      "Successfully built tabulate\n",
      "Installing collected packages: graphviz, tabulate, eli5\n",
      "Successfully installed eli5-0.10.1 graphviz-0.13.2 tabulate-0.8.5\n"
     ]
    }
   ],
   "source": [
    "!pip install eli5"
   ]
  },
  {
   "cell_type": "code",
   "execution_count": 86,
   "metadata": {},
   "outputs": [],
   "source": [
    "import eli5\n",
    "from eli5.sklearn import PermutationImportance"
   ]
  },
  {
   "cell_type": "code",
   "execution_count": null,
   "metadata": {},
   "outputs": [],
   "source": [
    "model = RandomForestRegressor(n_estimators=400,\n",
    "                              n_jobs=-1)\n",
    "model.fit(X_train, y_train)\n",
    "y_train_pred = model.predict(X_train)"
   ]
  },
  {
   "cell_type": "markdown",
   "metadata": {},
   "source": [
    "# Permutation Importances"
   ]
  },
  {
   "cell_type": "code",
   "execution_count": 89,
   "metadata": {},
   "outputs": [
    {
     "data": {
      "text/plain": [
       "PermutationImportance(cv='prefit',\n",
       "                      estimator=RandomForestRegressor(bootstrap=True,\n",
       "                                                      criterion='mse',\n",
       "                                                      max_depth=None,\n",
       "                                                      max_features='auto',\n",
       "                                                      max_leaf_nodes=None,\n",
       "                                                      min_impurity_decrease=0.0,\n",
       "                                                      min_impurity_split=None,\n",
       "                                                      min_samples_leaf=1,\n",
       "                                                      min_samples_split=2,\n",
       "                                                      min_weight_fraction_leaf=0.0,\n",
       "                                                      n_estimators=400,\n",
       "                                                      n_jobs=-1,\n",
       "                                                      oob_score=False,\n",
       "                                                      random_state=None,\n",
       "                                                      verbose=0,\n",
       "                                                      warm_start=False),\n",
       "                      n_iter=5, random_state=42, refit=True,\n",
       "                      scoring='neg_mean_absolute_error')"
      ]
     },
     "execution_count": 89,
     "metadata": {},
     "output_type": "execute_result"
    }
   ],
   "source": [
    "permuter = PermutationImportance(\n",
    "    model, \n",
    "    scoring='neg_mean_absolute_error', \n",
    "    n_iter=5, \n",
    "    random_state=42\n",
    ")\n",
    "\n",
    "permuter.fit(X_val, y_val)"
   ]
  },
  {
   "cell_type": "code",
   "execution_count": 90,
   "metadata": {},
   "outputs": [
    {
     "data": {
      "text/plain": [
       "lat_grid       1.645850\n",
       "lon_grid       1.455181\n",
       "part_of_day    0.575320\n",
       "call_dow       0.110105\n",
       "call_year      0.000000\n",
       "call_day      -0.000196\n",
       "call_month    -0.006610\n",
       "call_week     -0.007501\n",
       "dtype: float64"
      ]
     },
     "execution_count": 90,
     "metadata": {},
     "output_type": "execute_result"
    }
   ],
   "source": [
    "feature_names = X_val.columns.tolist()\n",
    "pd.Series(permuter.feature_importances_, feature_names).sort_values(ascending=False)"
   ]
  },
  {
   "cell_type": "markdown",
   "metadata": {},
   "source": [
    "# Partial Dependence Plots"
   ]
  },
  {
   "cell_type": "code",
   "execution_count": 95,
   "metadata": {},
   "outputs": [
    {
     "data": {
      "text/plain": [
       "(0, 20)"
      ]
     },
     "execution_count": 95,
     "metadata": {},
     "output_type": "execute_result"
    },
    {
     "data": {
      "image/png": "[encoded data removed]",
      "text/plain": [
       "<Figure size 720x576 with 1 Axes>"
      ]
     },
     "metadata": {
      "needs_background": "light"
     },
     "output_type": "display_data"
    }
   ],
   "source": [
    "fig, ax = plt.subplots(figsize=(10,8))\n",
    "ax = sns.distplot(y_train)\n",
    "ax.set_xlim(0, 20)"
   ]
  },
  {
   "cell_type": "code",
   "execution_count": 99,
   "metadata": {},
   "outputs": [
    {
     "name": "stdout",
     "output_type": "stream",
     "text": [
      "Collecting pdpbox\n",
      "  Downloading https://files.pythonhosted.org/packages/87/23/ac7da5ba1c6c03a87c412e7e7b6e91a10d6ecf4474906c3e736f93940d49/PDPbox-0.2.0.tar.gz (57.7MB)\n",
      "Requirement already satisfied: pandas in c:\\users\\btros\\anaconda3\\lib\\site-packages (from pdpbox) (0.25.1)\n",
      "Requirement already satisfied: numpy in c:\\users\\btros\\anaconda3\\lib\\site-packages (from pdpbox) (1.16.5)\n",
      "Requirement already satisfied: scipy in c:\\users\\btros\\anaconda3\\lib\\site-packages (from pdpbox) (1.3.1)\n",
      "Requirement already satisfied: matplotlib>=2.1.2 in c:\\users\\btros\\appdata\\roaming\\python\\python37\\site-packages (from pdpbox) (3.0.0)\n",
      "Requirement already satisfied: joblib in c:\\users\\btros\\anaconda3\\lib\\site-packages (from pdpbox) (0.13.2)\n",
      "Requirement already satisfied: psutil in c:\\users\\btros\\anaconda3\\lib\\site-packages (from pdpbox) (5.6.3)\n",
      "Requirement already satisfied: scikit-learn in c:\\users\\btros\\anaconda3\\lib\\site-packages (from pdpbox) (0.21.3)\n",
      "Requirement already satisfied: pytz>=2017.2 in c:\\users\\btros\\anaconda3\\lib\\site-packages (from pandas->pdpbox) (2019.3)\n",
      "Requirement already satisfied: python-dateutil>=2.6.1 in c:\\users\\btros\\anaconda3\\lib\\site-packages (from pandas->pdpbox) (2.8.0)\n",
      "Requirement already satisfied: cycler>=0.10 in c:\\users\\btros\\anaconda3\\lib\\site-packages (from matplotlib>=2.1.2->pdpbox) (0.10.0)\n",
      "Requirement already satisfied: kiwisolver>=1.0.1 in c:\\users\\btros\\anaconda3\\lib\\site-packages (from matplotlib>=2.1.2->pdpbox) (1.1.0)\n",
      "Requirement already satisfied: pyparsing!=2.0.4,!=2.1.2,!=2.1.6,>=2.0.1 in c:\\users\\btros\\anaconda3\\lib\\site-packages (from matplotlib>=2.1.2->pdpbox) (2.4.2)\n",
      "Requirement already satisfied: six>=1.5 in c:\\users\\btros\\anaconda3\\lib\\site-packages (from python-dateutil>=2.6.1->pandas->pdpbox) (1.12.0)\n",
      "Requirement already satisfied: setuptools in c:\\users\\btros\\anaconda3\\lib\\site-packages (from kiwisolver>=1.0.1->matplotlib>=2.1.2->pdpbox) (41.4.0)\n",
      "Building wheels for collected packages: pdpbox\n",
      "  Building wheel for pdpbox (setup.py): started\n",
      "  Building wheel for pdpbox (setup.py): finished with status 'done'\n",
      "  Created wheel for pdpbox: filename=PDPbox-0.2.0-cp37-none-any.whl size=57690734 sha256=4fa8956575b1eb6793028cde72c7342412a154ed56bfc0fb52c5a673f81794ff\n",
      "  Stored in directory: C:\\Users\\btros\\AppData\\Local\\pip\\Cache\\wheels\\7d\\08\\51\\63fd122b04a2c87d780464eeffb94867c75bd96a64d500a3fe\n",
      "Successfully built pdpbox\n",
      "Installing collected packages: pdpbox\n",
      "Successfully installed pdpbox-0.2.0\n"
     ]
    }
   ],
   "source": [
    "!pip install pdpbox"
   ]
  },
  {
   "cell_type": "code",
   "execution_count": 104,
   "metadata": {},
   "outputs": [],
   "source": [
    "from pdpbox.pdp import pdp_isolate, pdp_plot\n",
    "plt.rcParams['figure.dpi'] = 150\n",
    "\n",
    "feature = 'part_of_day'\n",
    "\n",
    "isolated = pdp_isolate(\n",
    "    model=model, \n",
    "    dataset=X_val, \n",
    "    model_features=X_val.columns, \n",
    "    feature=feature\n",
    ")\n"
   ]
  },
  {
   "cell_type": "code",
   "execution_count": 105,
   "metadata": {},
   "outputs": [
    {
     "data": {
      "text/plain": [
       "(<Figure size 1080x684 with 2 Axes>,\n",
       " {'title_ax': <matplotlib.axes._subplots.AxesSubplot at 0x2b40f2eb588>,\n",
       "  'pdp_ax': <matplotlib.axes._subplots.AxesSubplot at 0x2b410fc2388>})"
      ]
     },
     "execution_count": 105,
     "metadata": {},
     "output_type": "execute_result"
    },
    {
     "data": {
      "image/png": "[encoded data removed]",
      "text/plain": [
       "<Figure size 1080x684 with 2 Axes>"
      ]
     },
     "metadata": {
      "needs_background": "light"
     },
     "output_type": "display_data"
    }
   ],
   "source": [
    "pdp_plot(isolated, feature_name=feature, plot_lines=True, frac_to_plot=100)"
   ]
  },
  {
   "cell_type": "code",
   "execution_count": 119,
   "metadata": {},
   "outputs": [
    {
     "data": {
      "image/png": "[encoded data removed]",
      "text/plain": [
       "<Figure size 540x684 with 3 Axes>"
      ]
     },
     "metadata": {
      "needs_background": "light"
     },
     "output_type": "display_data"
    }
   ],
   "source": [
    "from pdpbox.pdp import pdp_interact, pdp_interact_plot\n",
    "\n",
    "features = ['part_of_day', 'call_dow']\n",
    "\n",
    "interaction = pdp_interact(\n",
    "    model=model, \n",
    "    dataset=X_val, \n",
    "    model_features=X_val.columns, \n",
    "    features=features\n",
    ")\n",
    "\n",
    "pdp_interact_plot(interaction, plot_type='grid', feature_names=features);"
   ]
  },
  {
   "cell_type": "markdown",
   "metadata": {},
   "source": [
    "# Shaply Plots"
   ]
  },
  {
   "cell_type": "code",
   "execution_count": 110,
   "metadata": {},
   "outputs": [
    {
     "name": "stdout",
     "output_type": "stream",
     "text": [
      "Collecting shap\n",
      "  Downloading https://files.pythonhosted.org/packages/27/20/1101ac6c1c952aca8e2a7a22810fc707c31b155fe183dd338bfe86741f2c/shap-0.32.1-cp37-cp37m-win_amd64.whl (292kB)\n",
      "Requirement already satisfied: tqdm>4.25.0 in c:\\users\\btros\\anaconda3\\lib\\site-packages (from shap) (4.36.1)\n",
      "Requirement already satisfied: numpy in c:\\users\\btros\\anaconda3\\lib\\site-packages (from shap) (1.16.5)\n",
      "Requirement already satisfied: pandas in c:\\users\\btros\\anaconda3\\lib\\site-packages (from shap) (0.25.1)\n",
      "Requirement already satisfied: scikit-learn in c:\\users\\btros\\anaconda3\\lib\\site-packages (from shap) (0.21.3)\n",
      "Requirement already satisfied: scipy in c:\\users\\btros\\anaconda3\\lib\\site-packages (from shap) (1.3.1)\n",
      "Requirement already satisfied: pytz>=2017.2 in c:\\users\\btros\\anaconda3\\lib\\site-packages (from pandas->shap) (2019.3)\n",
      "Requirement already satisfied: python-dateutil>=2.6.1 in c:\\users\\btros\\anaconda3\\lib\\site-packages (from pandas->shap) (2.8.0)\n",
      "Requirement already satisfied: joblib>=0.11 in c:\\users\\btros\\anaconda3\\lib\\site-packages (from scikit-learn->shap) (0.13.2)\n",
      "Requirement already satisfied: six>=1.5 in c:\\users\\btros\\anaconda3\\lib\\site-packages (from python-dateutil>=2.6.1->pandas->shap) (1.12.0)\n",
      "Installing collected packages: shap\n",
      "Successfully installed shap-0.32.1\n"
     ]
    }
   ],
   "source": [
    "!pip install shap"
   ]
  },
  {
   "cell_type": "code",
   "execution_count": 126,
   "metadata": {},
   "outputs": [
    {
     "data": {
      "text/plain": [
       "call_year      2018.0\n",
       "call_month        8.0\n",
       "call_day          1.0\n",
       "call_dow          2.0\n",
       "call_week        31.0\n",
       "part_of_day       1.0\n",
       "lat_grid          1.0\n",
       "lon_grid          4.0\n",
       "Name: 226704, dtype: float64"
      ]
     },
     "execution_count": 126,
     "metadata": {},
     "output_type": "execute_result"
    }
   ],
   "source": [
    "X_val.iloc[1]"
   ]
  },
  {
   "cell_type": "code",
   "execution_count": 128,
   "metadata": {},
   "outputs": [
    {
     "ename": "MemoryError",
     "evalue": "",
     "output_type": "error",
     "traceback": [
      "\u001b[1;31m---------------------------------------------------------------------------\u001b[0m",
      "\u001b[1;31mMemoryError\u001b[0m                               Traceback (most recent call last)",
      "\u001b[1;32m<ipython-input-128-9b275b288249>\u001b[0m in \u001b[0;36m<module>\u001b[1;34m\u001b[0m\n\u001b[0;32m      4\u001b[0m \u001b[0mrow\u001b[0m\u001b[1;33m=\u001b[0m\u001b[0mX_val\u001b[0m\u001b[1;33m.\u001b[0m\u001b[0miloc\u001b[0m\u001b[1;33m[\u001b[0m\u001b[1;36m1\u001b[0m\u001b[1;33m]\u001b[0m\u001b[1;33m\u001b[0m\u001b[1;33m\u001b[0m\u001b[0m\n\u001b[0;32m      5\u001b[0m \u001b[1;33m\u001b[0m\u001b[0m\n\u001b[1;32m----> 6\u001b[1;33m \u001b[0mexplainer\u001b[0m \u001b[1;33m=\u001b[0m \u001b[0mshap\u001b[0m\u001b[1;33m.\u001b[0m\u001b[0mTreeExplainer\u001b[0m\u001b[1;33m(\u001b[0m\u001b[0mmodel\u001b[0m\u001b[1;33m)\u001b[0m\u001b[1;33m\u001b[0m\u001b[1;33m\u001b[0m\u001b[0m\n\u001b[0m\u001b[0;32m      7\u001b[0m \u001b[0mshap_values\u001b[0m \u001b[1;33m=\u001b[0m \u001b[0mexplainer\u001b[0m\u001b[1;33m.\u001b[0m\u001b[0mshap_values\u001b[0m\u001b[1;33m(\u001b[0m\u001b[0mrow\u001b[0m\u001b[1;33m)\u001b[0m\u001b[1;33m\u001b[0m\u001b[1;33m\u001b[0m\u001b[0m\n\u001b[0;32m      8\u001b[0m \u001b[1;33m\u001b[0m\u001b[0m\n",
      "\u001b[1;32m~\\Anaconda3\\lib\\site-packages\\shap\\explainers\\tree.py\u001b[0m in \u001b[0;36m__init__\u001b[1;34m(self, model, data, model_output, feature_dependence)\u001b[0m\n\u001b[0;32m     87\u001b[0m         \u001b[0mself\u001b[0m\u001b[1;33m.\u001b[0m\u001b[0mfeature_dependence\u001b[0m \u001b[1;33m=\u001b[0m \u001b[0mfeature_dependence\u001b[0m\u001b[1;33m\u001b[0m\u001b[1;33m\u001b[0m\u001b[0m\n\u001b[0;32m     88\u001b[0m         \u001b[0mself\u001b[0m\u001b[1;33m.\u001b[0m\u001b[0mexpected_value\u001b[0m \u001b[1;33m=\u001b[0m \u001b[1;32mNone\u001b[0m\u001b[1;33m\u001b[0m\u001b[1;33m\u001b[0m\u001b[0m\n\u001b[1;32m---> 89\u001b[1;33m         \u001b[0mself\u001b[0m\u001b[1;33m.\u001b[0m\u001b[0mmodel\u001b[0m \u001b[1;33m=\u001b[0m \u001b[0mTreeEnsemble\u001b[0m\u001b[1;33m(\u001b[0m\u001b[0mmodel\u001b[0m\u001b[1;33m,\u001b[0m \u001b[0mself\u001b[0m\u001b[1;33m.\u001b[0m\u001b[0mdata\u001b[0m\u001b[1;33m,\u001b[0m \u001b[0mself\u001b[0m\u001b[1;33m.\u001b[0m\u001b[0mdata_missing\u001b[0m\u001b[1;33m)\u001b[0m\u001b[1;33m\u001b[0m\u001b[1;33m\u001b[0m\u001b[0m\n\u001b[0m\u001b[0;32m     90\u001b[0m \u001b[1;33m\u001b[0m\u001b[0m\n\u001b[0;32m     91\u001b[0m         \u001b[1;32massert\u001b[0m \u001b[0mfeature_dependence\u001b[0m \u001b[1;32min\u001b[0m \u001b[0mfeature_dependence_codes\u001b[0m\u001b[1;33m,\u001b[0m \u001b[1;34m\"Invalid feature_dependence option!\"\u001b[0m\u001b[1;33m\u001b[0m\u001b[1;33m\u001b[0m\u001b[0m\n",
      "\u001b[1;32m~\\Anaconda3\\lib\\site-packages\\shap\\explainers\\tree.py\u001b[0m in \u001b[0;36m__init__\u001b[1;34m(self, model, data, data_missing)\u001b[0m\n\u001b[0;32m    464\u001b[0m             \u001b[0mself\u001b[0m\u001b[1;33m.\u001b[0m\u001b[0minput_dtype\u001b[0m \u001b[1;33m=\u001b[0m \u001b[0mnp\u001b[0m\u001b[1;33m.\u001b[0m\u001b[0mfloat32\u001b[0m\u001b[1;33m\u001b[0m\u001b[1;33m\u001b[0m\u001b[0m\n\u001b[0;32m    465\u001b[0m             \u001b[0mscaling\u001b[0m \u001b[1;33m=\u001b[0m \u001b[1;36m1.0\u001b[0m \u001b[1;33m/\u001b[0m \u001b[0mlen\u001b[0m\u001b[1;33m(\u001b[0m\u001b[0mmodel\u001b[0m\u001b[1;33m.\u001b[0m\u001b[0mestimators_\u001b[0m\u001b[1;33m)\u001b[0m \u001b[1;31m# output is average of trees\u001b[0m\u001b[1;33m\u001b[0m\u001b[1;33m\u001b[0m\u001b[0m\n\u001b[1;32m--> 466\u001b[1;33m             \u001b[0mself\u001b[0m\u001b[1;33m.\u001b[0m\u001b[0mtrees\u001b[0m \u001b[1;33m=\u001b[0m \u001b[1;33m[\u001b[0m\u001b[0mTree\u001b[0m\u001b[1;33m(\u001b[0m\u001b[0me\u001b[0m\u001b[1;33m.\u001b[0m\u001b[0mtree_\u001b[0m\u001b[1;33m,\u001b[0m \u001b[0mscaling\u001b[0m\u001b[1;33m=\u001b[0m\u001b[0mscaling\u001b[0m\u001b[1;33m,\u001b[0m \u001b[0mdata\u001b[0m\u001b[1;33m=\u001b[0m\u001b[0mdata\u001b[0m\u001b[1;33m,\u001b[0m \u001b[0mdata_missing\u001b[0m\u001b[1;33m=\u001b[0m\u001b[0mdata_missing\u001b[0m\u001b[1;33m)\u001b[0m \u001b[1;32mfor\u001b[0m \u001b[0me\u001b[0m \u001b[1;32min\u001b[0m \u001b[0mmodel\u001b[0m\u001b[1;33m.\u001b[0m\u001b[0mestimators_\u001b[0m\u001b[1;33m]\u001b[0m\u001b[1;33m\u001b[0m\u001b[1;33m\u001b[0m\u001b[0m\n\u001b[0m\u001b[0;32m    467\u001b[0m             \u001b[0mself\u001b[0m\u001b[1;33m.\u001b[0m\u001b[0mobjective\u001b[0m \u001b[1;33m=\u001b[0m \u001b[0mobjective_name_map\u001b[0m\u001b[1;33m.\u001b[0m\u001b[0mget\u001b[0m\u001b[1;33m(\u001b[0m\u001b[0mmodel\u001b[0m\u001b[1;33m.\u001b[0m\u001b[0mcriterion\u001b[0m\u001b[1;33m,\u001b[0m \u001b[1;32mNone\u001b[0m\u001b[1;33m)\u001b[0m\u001b[1;33m\u001b[0m\u001b[1;33m\u001b[0m\u001b[0m\n\u001b[0;32m    468\u001b[0m             \u001b[0mself\u001b[0m\u001b[1;33m.\u001b[0m\u001b[0mtree_output\u001b[0m \u001b[1;33m=\u001b[0m \u001b[1;34m\"raw_value\"\u001b[0m\u001b[1;33m\u001b[0m\u001b[1;33m\u001b[0m\u001b[0m\n",
      "\u001b[1;32m~\\Anaconda3\\lib\\site-packages\\shap\\explainers\\tree.py\u001b[0m in \u001b[0;36m<listcomp>\u001b[1;34m(.0)\u001b[0m\n\u001b[0;32m    464\u001b[0m             \u001b[0mself\u001b[0m\u001b[1;33m.\u001b[0m\u001b[0minput_dtype\u001b[0m \u001b[1;33m=\u001b[0m \u001b[0mnp\u001b[0m\u001b[1;33m.\u001b[0m\u001b[0mfloat32\u001b[0m\u001b[1;33m\u001b[0m\u001b[1;33m\u001b[0m\u001b[0m\n\u001b[0;32m    465\u001b[0m             \u001b[0mscaling\u001b[0m \u001b[1;33m=\u001b[0m \u001b[1;36m1.0\u001b[0m \u001b[1;33m/\u001b[0m \u001b[0mlen\u001b[0m\u001b[1;33m(\u001b[0m\u001b[0mmodel\u001b[0m\u001b[1;33m.\u001b[0m\u001b[0mestimators_\u001b[0m\u001b[1;33m)\u001b[0m \u001b[1;31m# output is average of trees\u001b[0m\u001b[1;33m\u001b[0m\u001b[1;33m\u001b[0m\u001b[0m\n\u001b[1;32m--> 466\u001b[1;33m             \u001b[0mself\u001b[0m\u001b[1;33m.\u001b[0m\u001b[0mtrees\u001b[0m \u001b[1;33m=\u001b[0m \u001b[1;33m[\u001b[0m\u001b[0mTree\u001b[0m\u001b[1;33m(\u001b[0m\u001b[0me\u001b[0m\u001b[1;33m.\u001b[0m\u001b[0mtree_\u001b[0m\u001b[1;33m,\u001b[0m \u001b[0mscaling\u001b[0m\u001b[1;33m=\u001b[0m\u001b[0mscaling\u001b[0m\u001b[1;33m,\u001b[0m \u001b[0mdata\u001b[0m\u001b[1;33m=\u001b[0m\u001b[0mdata\u001b[0m\u001b[1;33m,\u001b[0m \u001b[0mdata_missing\u001b[0m\u001b[1;33m=\u001b[0m\u001b[0mdata_missing\u001b[0m\u001b[1;33m)\u001b[0m \u001b[1;32mfor\u001b[0m \u001b[0me\u001b[0m \u001b[1;32min\u001b[0m \u001b[0mmodel\u001b[0m\u001b[1;33m.\u001b[0m\u001b[0mestimators_\u001b[0m\u001b[1;33m]\u001b[0m\u001b[1;33m\u001b[0m\u001b[1;33m\u001b[0m\u001b[0m\n\u001b[0m\u001b[0;32m    467\u001b[0m             \u001b[0mself\u001b[0m\u001b[1;33m.\u001b[0m\u001b[0mobjective\u001b[0m \u001b[1;33m=\u001b[0m \u001b[0mobjective_name_map\u001b[0m\u001b[1;33m.\u001b[0m\u001b[0mget\u001b[0m\u001b[1;33m(\u001b[0m\u001b[0mmodel\u001b[0m\u001b[1;33m.\u001b[0m\u001b[0mcriterion\u001b[0m\u001b[1;33m,\u001b[0m \u001b[1;32mNone\u001b[0m\u001b[1;33m)\u001b[0m\u001b[1;33m\u001b[0m\u001b[1;33m\u001b[0m\u001b[0m\n\u001b[0;32m    468\u001b[0m             \u001b[0mself\u001b[0m\u001b[1;33m.\u001b[0m\u001b[0mtree_output\u001b[0m \u001b[1;33m=\u001b[0m \u001b[1;34m\"raw_value\"\u001b[0m\u001b[1;33m\u001b[0m\u001b[1;33m\u001b[0m\u001b[0m\n",
      "\u001b[1;32m~\\Anaconda3\\lib\\site-packages\\shap\\explainers\\tree.py\u001b[0m in \u001b[0;36m__init__\u001b[1;34m(self, tree, normalize, scaling, data, data_missing)\u001b[0m\n\u001b[0;32m    851\u001b[0m         \u001b[1;32mif\u001b[0m \u001b[0msafe_isinstance\u001b[0m\u001b[1;33m(\u001b[0m\u001b[0mtree\u001b[0m\u001b[1;33m,\u001b[0m \u001b[1;34m\"sklearn.tree._tree.Tree\"\u001b[0m\u001b[1;33m)\u001b[0m\u001b[1;33m:\u001b[0m\u001b[1;33m\u001b[0m\u001b[1;33m\u001b[0m\u001b[0m\n\u001b[0;32m    852\u001b[0m             \u001b[0mself\u001b[0m\u001b[1;33m.\u001b[0m\u001b[0mchildren_left\u001b[0m \u001b[1;33m=\u001b[0m \u001b[0mtree\u001b[0m\u001b[1;33m.\u001b[0m\u001b[0mchildren_left\u001b[0m\u001b[1;33m.\u001b[0m\u001b[0mastype\u001b[0m\u001b[1;33m(\u001b[0m\u001b[0mnp\u001b[0m\u001b[1;33m.\u001b[0m\u001b[0mint32\u001b[0m\u001b[1;33m)\u001b[0m\u001b[1;33m\u001b[0m\u001b[1;33m\u001b[0m\u001b[0m\n\u001b[1;32m--> 853\u001b[1;33m             \u001b[0mself\u001b[0m\u001b[1;33m.\u001b[0m\u001b[0mchildren_right\u001b[0m \u001b[1;33m=\u001b[0m \u001b[0mtree\u001b[0m\u001b[1;33m.\u001b[0m\u001b[0mchildren_right\u001b[0m\u001b[1;33m.\u001b[0m\u001b[0mastype\u001b[0m\u001b[1;33m(\u001b[0m\u001b[0mnp\u001b[0m\u001b[1;33m.\u001b[0m\u001b[0mint32\u001b[0m\u001b[1;33m)\u001b[0m\u001b[1;33m\u001b[0m\u001b[1;33m\u001b[0m\u001b[0m\n\u001b[0m\u001b[0;32m    854\u001b[0m             \u001b[0mself\u001b[0m\u001b[1;33m.\u001b[0m\u001b[0mchildren_default\u001b[0m \u001b[1;33m=\u001b[0m \u001b[0mself\u001b[0m\u001b[1;33m.\u001b[0m\u001b[0mchildren_left\u001b[0m \u001b[1;31m# missing values not supported in sklearn\u001b[0m\u001b[1;33m\u001b[0m\u001b[1;33m\u001b[0m\u001b[0m\n\u001b[0;32m    855\u001b[0m             \u001b[0mself\u001b[0m\u001b[1;33m.\u001b[0m\u001b[0mfeatures\u001b[0m \u001b[1;33m=\u001b[0m \u001b[0mtree\u001b[0m\u001b[1;33m.\u001b[0m\u001b[0mfeature\u001b[0m\u001b[1;33m.\u001b[0m\u001b[0mastype\u001b[0m\u001b[1;33m(\u001b[0m\u001b[0mnp\u001b[0m\u001b[1;33m.\u001b[0m\u001b[0mint32\u001b[0m\u001b[1;33m)\u001b[0m\u001b[1;33m\u001b[0m\u001b[1;33m\u001b[0m\u001b[0m\n",
      "\u001b[1;31mMemoryError\u001b[0m: "
     ]
    }
   ],
   "source": [
    "import shap\n",
    "import random as rd\n",
    "\n",
    "row=X_val.iloc[1]\n",
    "\n",
    "explainer = shap.TreeExplainer(model)\n",
    "shap_values = explainer.shap_values(row)\n",
    "\n",
    "shap.initjs()\n",
    "shap.force_plot(\n",
    "    base_value=explainer.expected_value, \n",
    "    shap_values=shap_values, \n",
    "    features=row\n",
    ")"
   ]
  },
  {
   "cell_type": "code",
   "execution_count": null,
   "metadata": {},
   "outputs": [],
   "source": []
  }
 ],
 "metadata": {
  "kernelspec": {
   "display_name": "Python 3",
   "language": "python",
   "name": "python3"
  },
  "language_info": {
   "codemirror_mode": {
    "name": "ipython",
    "version": 3
   },
   "file_extension": ".py",
   "mimetype": "text/x-python",
   "name": "python",
   "nbconvert_exporter": "python",
   "pygments_lexer": "ipython3",
   "version": "3.7.4"
  }
 },
 "nbformat": 4,
 "nbformat_minor": 4
}
