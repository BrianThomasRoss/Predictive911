{
 "cells": [
  {
   "cell_type": "markdown",
   "metadata": {},
   "source": [
    "# Imports"
   ]
  },
  {
   "cell_type": "code",
   "execution_count": null,
   "metadata": {},
   "outputs": [],
   "source": [
    "import os\n",
    "import sys\n",
    "\n",
    "#    Data Manipulation\n",
    "import pandas as pd\n",
    "#    Pandas Settings\n",
    "\n",
    "#    Linear Algebra\n",
    "import numpy as np\n",
    "\n",
    "#    Data Visualization\n",
    "import matplotlib.pyplot as plt\n",
    "%matplotlib inline\n",
    "import seaborn as sns\n",
    "\n",
    "#    DateTime Manipulation\n",
    "import datetime.datetime as dt"
   ]
  }
 ],
 "metadata": {
  "kernelspec": {
   "display_name": "p911-dev (Python 3.8)",
   "language": "python",
   "name": "p911-dev"
  },
  "language_info": {
   "codemirror_mode": {
    "name": "ipython",
    "version": 3
   },
   "file_extension": ".py",
   "mimetype": "text/x-python",
   "name": "python",
   "nbconvert_exporter": "python",
   "pygments_lexer": "ipython3",
   "version": "3.8.1"
  }
 },
 "nbformat": 4,
 "nbformat_minor": 4
}
