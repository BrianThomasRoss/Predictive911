{
 "cells": [
  {
   "cell_type": "markdown",
   "metadata": {},
   "source": [
    "# Imports"
   ]
  },
  {
   "cell_type": "code",
   "execution_count": 1,
   "metadata": {},
   "outputs": [],
   "source": [
    "#    OS interaction\n",
    "import os\n",
    "\n",
    "#    Data Manipulation\n",
    "import pandas as pd\n",
    "\n",
    "#    Pandas Settings\n",
    "pd.set_option('display.max_rows', 500)\n",
    "pd.set_option('display.max_columns', 500)\n",
    "pd.set_option('display.width', 1000)\n",
    "\n",
    "#    Linear Algebra\n",
    "import numpy as np\n",
    "\n",
    "#    Data Visualization\n",
    "import matplotlib.pyplot as plt\n",
    "%matplotlib inline\n",
    "import seaborn as sns\n",
    "\n",
    "#    DateTime Manipulation\n",
    "import datetime as dt"
   ]
  },
  {
   "cell_type": "markdown",
   "metadata": {},
   "source": [
    "# Load Data"
   ]
  },
  {
   "cell_type": "code",
   "execution_count": 2,
   "metadata": {},
   "outputs": [],
   "source": [
    "project_dir = os.path.abspath('..')\n",
    "data_path = '/data/detroit_911_calls_cleaned.csv'\n",
    "\n",
    "csv_path = project_dir + data_path\n",
    "\n",
    "\n",
    "df = pd.read_csv(csv_path)"
   ]
  },
  {
   "cell_type": "code",
   "execution_count": 3,
   "metadata": {},
   "outputs": [
    {
     "name": "stdout",
     "output_type": "stream",
     "text": [
      "(2727156, 24)\n"
     ]
    },
    {
     "data": {
      "text/html": [
       "<div>\n",
       "<style scoped>\n",
       "    .dataframe tbody tr th:only-of-type {\n",
       "        vertical-align: middle;\n",
       "    }\n",
       "\n",
       "    .dataframe tbody tr th {\n",
       "        vertical-align: top;\n",
       "    }\n",
       "\n",
       "    .dataframe thead th {\n",
       "        text-align: right;\n",
       "    }\n",
       "</style>\n",
       "<table border=\"1\" class=\"dataframe\">\n",
       "  <thead>\n",
       "    <tr style=\"text-align: right;\">\n",
       "      <th></th>\n",
       "      <th>X</th>\n",
       "      <th>Y</th>\n",
       "      <th>incident_id</th>\n",
       "      <th>agency</th>\n",
       "      <th>incident_address</th>\n",
       "      <th>zip_code</th>\n",
       "      <th>priority</th>\n",
       "      <th>callcode</th>\n",
       "      <th>calldescription</th>\n",
       "      <th>category</th>\n",
       "      <th>call_timestamp</th>\n",
       "      <th>precinct_sca</th>\n",
       "      <th>respondingunit</th>\n",
       "      <th>officerinitiated</th>\n",
       "      <th>intaketime</th>\n",
       "      <th>dispatchtime</th>\n",
       "      <th>traveltime</th>\n",
       "      <th>totalresponsetime</th>\n",
       "      <th>time_on_scene</th>\n",
       "      <th>totaltime</th>\n",
       "      <th>neighborhood</th>\n",
       "      <th>block_id</th>\n",
       "      <th>council_district</th>\n",
       "      <th>oid</th>\n",
       "    </tr>\n",
       "  </thead>\n",
       "  <tbody>\n",
       "    <tr>\n",
       "      <th>0</th>\n",
       "      <td>-82.986962</td>\n",
       "      <td>42.408358</td>\n",
       "      <td>201626400002</td>\n",
       "      <td>DPD</td>\n",
       "      <td>Promenade Ave &amp; Roseberry St</td>\n",
       "      <td>48213</td>\n",
       "      <td>3</td>\n",
       "      <td>825030</td>\n",
       "      <td>DISTURBANCE</td>\n",
       "      <td>DISTURB</td>\n",
       "      <td>2016-09-20T09:36:12.000Z</td>\n",
       "      <td>910A</td>\n",
       "      <td>NaN</td>\n",
       "      <td>No</td>\n",
       "      <td>2.2</td>\n",
       "      <td>528.6</td>\n",
       "      <td>15.5</td>\n",
       "      <td>546.6</td>\n",
       "      <td>120.5</td>\n",
       "      <td>667.1</td>\n",
       "      <td>Wade</td>\n",
       "      <td>2.616350e+14</td>\n",
       "      <td>4.0</td>\n",
       "      <td>260872651</td>\n",
       "    </tr>\n",
       "    <tr>\n",
       "      <th>1</th>\n",
       "      <td>-83.185213</td>\n",
       "      <td>42.430914</td>\n",
       "      <td>201626400019</td>\n",
       "      <td>DPD</td>\n",
       "      <td>Ardmore St &amp; W 7 Mile Rd</td>\n",
       "      <td>48235</td>\n",
       "      <td>2</td>\n",
       "      <td>811020</td>\n",
       "      <td>AUTO X UNK INJ / IMPAIRED</td>\n",
       "      <td>ACCUNK</td>\n",
       "      <td>2016-09-20T09:46:32.000Z</td>\n",
       "      <td>1201</td>\n",
       "      <td>NaN</td>\n",
       "      <td>No</td>\n",
       "      <td>2.7</td>\n",
       "      <td>5.2</td>\n",
       "      <td>6.4</td>\n",
       "      <td>14.5</td>\n",
       "      <td>59.1</td>\n",
       "      <td>73.6</td>\n",
       "      <td>Tri-Point</td>\n",
       "      <td>2.616354e+14</td>\n",
       "      <td>2.0</td>\n",
       "      <td>260872652</td>\n",
       "    </tr>\n",
       "    <tr>\n",
       "      <th>2</th>\n",
       "      <td>-83.146057</td>\n",
       "      <td>42.438770</td>\n",
       "      <td>201626400020</td>\n",
       "      <td>DPD</td>\n",
       "      <td>Pembroke Ave &amp; Prairie St</td>\n",
       "      <td>48221</td>\n",
       "      <td>3</td>\n",
       "      <td>374030</td>\n",
       "      <td>RECOVER AUTO</td>\n",
       "      <td>RECAUTO</td>\n",
       "      <td>2016-09-20T09:48:24.000Z</td>\n",
       "      <td>123B</td>\n",
       "      <td>NaN</td>\n",
       "      <td>No</td>\n",
       "      <td>4.9</td>\n",
       "      <td>NaN</td>\n",
       "      <td>NaN</td>\n",
       "      <td>NaN</td>\n",
       "      <td>NaN</td>\n",
       "      <td>NaN</td>\n",
       "      <td>Oak Grove</td>\n",
       "      <td>2.616354e+14</td>\n",
       "      <td>2.0</td>\n",
       "      <td>260872653</td>\n",
       "    </tr>\n",
       "  </tbody>\n",
       "</table>\n",
       "</div>"
      ],
      "text/plain": [
       "           X          Y   incident_id agency              incident_address zip_code priority callcode            calldescription  category            call_timestamp precinct_sca respondingunit officerinitiated  intaketime  dispatchtime  traveltime  totalresponsetime  time_on_scene  totaltime neighborhood      block_id  council_district        oid\n",
       "0 -82.986962  42.408358  201626400002   DPD   Promenade Ave & Roseberry St    48213        3   825030                DISTURBANCE  DISTURB   2016-09-20T09:36:12.000Z         910A            NaN               No         2.2         528.6        15.5              546.6          120.5      667.1         Wade  2.616350e+14               4.0  260872651\n",
       "1 -83.185213  42.430914  201626400019   DPD       Ardmore St & W 7 Mile Rd    48235        2   811020  AUTO X UNK INJ / IMPAIRED  ACCUNK    2016-09-20T09:46:32.000Z         1201            NaN               No         2.7           5.2         6.4               14.5           59.1       73.6    Tri-Point  2.616354e+14               2.0  260872652\n",
       "2 -83.146057  42.438770  201626400020   DPD      Pembroke Ave & Prairie St    48221        3   374030               RECOVER AUTO  RECAUTO   2016-09-20T09:48:24.000Z         123B            NaN               No         4.9           NaN         NaN                NaN            NaN        NaN    Oak Grove  2.616354e+14               2.0  260872653"
      ]
     },
     "execution_count": 3,
     "metadata": {},
     "output_type": "execute_result"
    }
   ],
   "source": [
    "print(df.shape)\n",
    "df.head(3)"
   ]
  },
  {
   "cell_type": "markdown",
   "metadata": {},
   "source": [
    "#### Initial Filtering\n",
    "\n",
    "The first logical step here is to move forward with only the columns we will be needing for this project. The most obvious of course are X and Y our longitude and latitude coordinates, as well as the call_timestamp, priority and call description. The rest of the columns will be unnecessary for our purposes."
   ]
  },
  {
   "cell_type": "code",
   "execution_count": 4,
   "metadata": {},
   "outputs": [
    {
     "data": {
      "text/html": [
       "<div>\n",
       "<style scoped>\n",
       "    .dataframe tbody tr th:only-of-type {\n",
       "        vertical-align: middle;\n",
       "    }\n",
       "\n",
       "    .dataframe tbody tr th {\n",
       "        vertical-align: top;\n",
       "    }\n",
       "\n",
       "    .dataframe thead th {\n",
       "        text-align: right;\n",
       "    }\n",
       "</style>\n",
       "<table border=\"1\" class=\"dataframe\">\n",
       "  <thead>\n",
       "    <tr style=\"text-align: right;\">\n",
       "      <th></th>\n",
       "      <th>X</th>\n",
       "      <th>Y</th>\n",
       "      <th>call_timestamp</th>\n",
       "      <th>call_description</th>\n",
       "      <th>priority</th>\n",
       "    </tr>\n",
       "  </thead>\n",
       "  <tbody>\n",
       "    <tr>\n",
       "      <th>0</th>\n",
       "      <td>-82.986962</td>\n",
       "      <td>42.408358</td>\n",
       "      <td>2016-09-20T09:36:12.000Z</td>\n",
       "      <td>DISTURBANCE</td>\n",
       "      <td>3</td>\n",
       "    </tr>\n",
       "    <tr>\n",
       "      <th>1</th>\n",
       "      <td>-83.185213</td>\n",
       "      <td>42.430914</td>\n",
       "      <td>2016-09-20T09:46:32.000Z</td>\n",
       "      <td>AUTO X UNK INJ / IMPAIRED</td>\n",
       "      <td>2</td>\n",
       "    </tr>\n",
       "    <tr>\n",
       "      <th>2</th>\n",
       "      <td>-83.146057</td>\n",
       "      <td>42.438770</td>\n",
       "      <td>2016-09-20T09:48:24.000Z</td>\n",
       "      <td>RECOVER AUTO</td>\n",
       "      <td>3</td>\n",
       "    </tr>\n",
       "  </tbody>\n",
       "</table>\n",
       "</div>"
      ],
      "text/plain": [
       "           X          Y            call_timestamp           call_description priority\n",
       "0 -82.986962  42.408358  2016-09-20T09:36:12.000Z                DISTURBANCE        3\n",
       "1 -83.185213  42.430914  2016-09-20T09:46:32.000Z  AUTO X UNK INJ / IMPAIRED        2\n",
       "2 -83.146057  42.438770  2016-09-20T09:48:24.000Z               RECOVER AUTO        3"
      ]
     },
     "execution_count": 4,
     "metadata": {},
     "output_type": "execute_result"
    }
   ],
   "source": [
    "pertinent_cols = [\n",
    "    'X', \n",
    "    'Y',\n",
    "    'call_timestamp',\n",
    "    'calldescription',\n",
    "    'priority'\n",
    "]\n",
    "\n",
    "df2 = df[pertinent_cols]\n",
    "\n",
    "#    correct calldescription header to fit convention\n",
    "df2 = df2.rename(columns={'calldescription':'call_description'})\n",
    "\n",
    "\n",
    "df2.head(3)"
   ]
  },
  {
   "cell_type": "markdown",
   "metadata": {},
   "source": [
    "### Secondary Filtering\n",
    "\n",
    "If we examine the call_description column we will find that not all observations relate to 911 responses, rather they represent administrative functions"
   ]
  },
  {
   "cell_type": "code",
   "execution_count": 6,
   "metadata": {},
   "outputs": [
    {
     "data": {
      "text/plain": [
       "SPECIAL ATTENTION                 393478\n",
       "TRAFFIC STOP                      385731\n",
       "DISTURBANCE                       186912\n",
       "START OF SHIFT INFORMATION        151182\n",
       "REMARKS                           139002\n",
       "INVESTIGATE PERSON                104818\n",
       "UNKNOWN PROBLEM                    95698\n",
       "HANGUP CALLS                       88672\n",
       "TOWING DETAIL                      76439\n",
       "ASSAULT AND BATTERY                72014\n",
       "FELONIOUS ASSAULT IP               47555\n",
       "BUS BOARDING                       44551\n",
       "LARCENY REPORT                     41048\n",
       "AUTO X UNK INJ / IMPAIRED          36121\n",
       "VERIFIED ALR / PERSON W/O CODE     28770\n",
       "UDAA REPORT                        28114\n",
       "PERSON WITH WEAPON                 26513\n",
       "BURGLARY OCCUPIED RESD I/P         25261\n",
       "SHOTS FIRED IP                     24837\n",
       "INVESTIGATE AUTO                   24437\n",
       "Name: call_description, dtype: int64"
      ]
     },
     "execution_count": 6,
     "metadata": {},
     "output_type": "execute_result"
    }
   ],
   "source": [
    "df2.call_description.value_counts()[:20]"
   ]
  },
  {
   "cell_type": "markdown",
   "metadata": {},
   "source": [
    "There are 2 call descriptions describing non-police functions, 'START OF SHIFT INFORMATION' and 'REMARKS'. So lets define our dataframe to include all the observations save for ones where the call description contains those values"
   ]
  },
  {
   "cell_type": "code",
   "execution_count": 10,
   "metadata": {},
   "outputs": [
    {
     "data": {
      "text/plain": [
       "START OF SHIFT INFORMATION    151182\n",
       "REMARKS                       139002\n",
       "Name: call_description, dtype: int64"
      ]
     },
     "execution_count": 10,
     "metadata": {},
     "output_type": "execute_result"
    }
   ],
   "source": [
    "admin_calls = df.call_description.value_counts()[3:5]"
   ]
  },
  {
   "cell_type": "code",
   "execution_count": 10,
   "metadata": {},
   "outputs": [
    {
     "name": "stdout",
     "output_type": "stream",
     "text": [
      "(2436972, 5)\n"
     ]
    },
    {
     "data": {
      "text/html": [
       "<div>\n",
       "<style scoped>\n",
       "    .dataframe tbody tr th:only-of-type {\n",
       "        vertical-align: middle;\n",
       "    }\n",
       "\n",
       "    .dataframe tbody tr th {\n",
       "        vertical-align: top;\n",
       "    }\n",
       "\n",
       "    .dataframe thead th {\n",
       "        text-align: right;\n",
       "    }\n",
       "</style>\n",
       "<table border=\"1\" class=\"dataframe\">\n",
       "  <thead>\n",
       "    <tr style=\"text-align: right;\">\n",
       "      <th></th>\n",
       "      <th>X</th>\n",
       "      <th>Y</th>\n",
       "      <th>call_timestamp</th>\n",
       "      <th>call_description</th>\n",
       "      <th>priority</th>\n",
       "    </tr>\n",
       "  </thead>\n",
       "  <tbody>\n",
       "    <tr>\n",
       "      <th>0</th>\n",
       "      <td>-82.986962</td>\n",
       "      <td>42.408358</td>\n",
       "      <td>2016-09-20T09:36:12.000Z</td>\n",
       "      <td>DISTURBANCE</td>\n",
       "      <td>3</td>\n",
       "    </tr>\n",
       "    <tr>\n",
       "      <th>1</th>\n",
       "      <td>-83.185213</td>\n",
       "      <td>42.430914</td>\n",
       "      <td>2016-09-20T09:46:32.000Z</td>\n",
       "      <td>AUTO X UNK INJ / IMPAIRED</td>\n",
       "      <td>2</td>\n",
       "    </tr>\n",
       "    <tr>\n",
       "      <th>2</th>\n",
       "      <td>-83.146057</td>\n",
       "      <td>42.438770</td>\n",
       "      <td>2016-09-20T09:48:24.000Z</td>\n",
       "      <td>RECOVER AUTO</td>\n",
       "      <td>3</td>\n",
       "    </tr>\n",
       "  </tbody>\n",
       "</table>\n",
       "</div>"
      ],
      "text/plain": [
       "           X          Y            call_timestamp           call_description priority\n",
       "0 -82.986962  42.408358  2016-09-20T09:36:12.000Z                DISTURBANCE        3\n",
       "1 -83.185213  42.430914  2016-09-20T09:46:32.000Z  AUTO X UNK INJ / IMPAIRED        2\n",
       "2 -83.146057  42.438770  2016-09-20T09:48:24.000Z               RECOVER AUTO        3"
      ]
     },
     "execution_count": 10,
     "metadata": {},
     "output_type": "execute_result"
    }
   ],
   "source": [
    "admin_calls = df2.call_description.value_counts()[3:5]\n",
    "\n",
    "df3 = df2.loc[~df2['call_description'].isin(list(admin_calls.index))]\n",
    "\n",
    "assert len(df3) == len(df2) - sum(list(admin_calls.values))\n",
    "\n",
    "print(df3.shape)\n",
    "\n",
    "df3.head(3)"
   ]
  },
  {
   "cell_type": "markdown",
   "metadata": {},
   "source": [
    "# DateTime\n",
    "\n",
    "First thing to be done here is to parse the call timestamps and encode each aspect of the DateTime information as a seperate column, we will also notice here that the timestamps use UTC time, so it would also make sense to localize the timezone as we move forward."
   ]
  },
  {
   "cell_type": "code",
   "execution_count": null,
   "metadata": {},
   "outputs": [],
   "source": []
  }
 ],
 "metadata": {
  "kernelspec": {
   "display_name": "p911-dev (Python 3.8)",
   "language": "python",
   "name": "p911-dev"
  },
  "language_info": {
   "codemirror_mode": {
    "name": "ipython",
    "version": 3
   },
   "file_extension": ".py",
   "mimetype": "text/x-python",
   "name": "python",
   "nbconvert_exporter": "python",
   "pygments_lexer": "ipython3",
   "version": "3.8.1"
  }
 },
 "nbformat": 4,
 "nbformat_minor": 4
}
